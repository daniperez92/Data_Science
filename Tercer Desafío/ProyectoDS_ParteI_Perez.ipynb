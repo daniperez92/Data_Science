{
 "cells": [
  {
   "attachments": {},
   "cell_type": "markdown",
   "metadata": {},
   "source": [
    "# Estructurando un Proyecto de DS (Parte I)"
   ]
  },
  {
   "attachments": {},
   "cell_type": "markdown",
   "metadata": {},
   "source": [
    "## Abstract"
   ]
  },
  {
   "attachments": {},
   "cell_type": "markdown",
   "metadata": {},
   "source": [
    "El conjunto de datos que se analiza en este estudio se centra en la reserva de hoteles y la probabilidad de que estas reservas sean canceladas. El dataset contiene información detallada sobre las reservas realizadas en distintos hoteles, incluyendo información sobre el tipo de habitación reservada, la duración de la estancia, la anticipación de la reserva, la fecha de llegada, la cantidad de personas y dias que reservan, entre otros datos.\n",
    "\n",
    "El objetivo principal de este estudio es analizar la probabilidad de que las reservas de hotel sean canceladas y determinar qué factores pueden influir en esta decisión. Para lograr este objetivo, se llevaran a cabo varios análisis estadísticos y van a utilizarse diferentes técnicas de modelado predictivo.\n",
    "\n"
   ]
  },
  {
   "attachments": {},
   "cell_type": "markdown",
   "metadata": {},
   "source": [
    "- ¿Afecta el tipo de mercado el estado final de la reserva?\n",
    "\n",
    "- ¿Existe relación entre el estado de la reserva y el tiempo de llegada al hotel?\n",
    "\n",
    "- ¿Hay alguna época en particular en la que se realizan mayor cantidad de cancelaciones?"
   ]
  },
  {
   "attachments": {},
   "cell_type": "markdown",
   "metadata": {},
   "source": [
    "### Importación de Librerias"
   ]
  },
  {
   "cell_type": "code",
   "execution_count": 2,
   "metadata": {},
   "outputs": [],
   "source": [
    "# Pandas\n",
    "import pandas as pd\n",
    "# Matplotlib\n",
    "import matplotlib.pyplot as plt\n",
    "# Seaborn\n",
    "import seaborn as sns"
   ]
  },
  {
   "attachments": {},
   "cell_type": "markdown",
   "metadata": {},
   "source": [
    "### Importación de Dataset"
   ]
  },
  {
   "cell_type": "code",
   "execution_count": 21,
   "metadata": {},
   "outputs": [],
   "source": [
    "hotel = pd.read_csv('./ReservaHotel.csv')"
   ]
  },
  {
   "cell_type": "code",
   "execution_count": 22,
   "metadata": {},
   "outputs": [
    {
     "data": {
      "text/html": [
       "<div>\n",
       "<style scoped>\n",
       "    .dataframe tbody tr th:only-of-type {\n",
       "        vertical-align: middle;\n",
       "    }\n",
       "\n",
       "    .dataframe tbody tr th {\n",
       "        vertical-align: top;\n",
       "    }\n",
       "\n",
       "    .dataframe thead th {\n",
       "        text-align: right;\n",
       "    }\n",
       "</style>\n",
       "<table border=\"1\" class=\"dataframe\">\n",
       "  <thead>\n",
       "    <tr style=\"text-align: right;\">\n",
       "      <th></th>\n",
       "      <th>Booking_ID</th>\n",
       "      <th>no_of_adults</th>\n",
       "      <th>no_of_children</th>\n",
       "      <th>no_of_weekend_nights</th>\n",
       "      <th>no_of_week_nights</th>\n",
       "      <th>type_of_meal_plan</th>\n",
       "      <th>required_car_parking_space</th>\n",
       "      <th>room_type_reserved</th>\n",
       "      <th>lead_time</th>\n",
       "      <th>arrival_year</th>\n",
       "      <th>arrival_month</th>\n",
       "      <th>arrival_date</th>\n",
       "      <th>market_segment_type</th>\n",
       "      <th>repeated_guest</th>\n",
       "      <th>no_of_previous_cancellations</th>\n",
       "      <th>no_of_previous_bookings_not_canceled</th>\n",
       "      <th>avg_price_per_room</th>\n",
       "      <th>no_of_special_requests</th>\n",
       "      <th>booking_status</th>\n",
       "    </tr>\n",
       "  </thead>\n",
       "  <tbody>\n",
       "    <tr>\n",
       "      <th>0</th>\n",
       "      <td>INN00001</td>\n",
       "      <td>2</td>\n",
       "      <td>0</td>\n",
       "      <td>1</td>\n",
       "      <td>2</td>\n",
       "      <td>Meal Plan 1</td>\n",
       "      <td>0</td>\n",
       "      <td>Room_Type 1</td>\n",
       "      <td>224</td>\n",
       "      <td>2017</td>\n",
       "      <td>10</td>\n",
       "      <td>2</td>\n",
       "      <td>Offline</td>\n",
       "      <td>0</td>\n",
       "      <td>0</td>\n",
       "      <td>0</td>\n",
       "      <td>65.00</td>\n",
       "      <td>0</td>\n",
       "      <td>Not_Canceled</td>\n",
       "    </tr>\n",
       "    <tr>\n",
       "      <th>1</th>\n",
       "      <td>INN00002</td>\n",
       "      <td>2</td>\n",
       "      <td>0</td>\n",
       "      <td>2</td>\n",
       "      <td>3</td>\n",
       "      <td>Not Selected</td>\n",
       "      <td>0</td>\n",
       "      <td>Room_Type 1</td>\n",
       "      <td>5</td>\n",
       "      <td>2018</td>\n",
       "      <td>11</td>\n",
       "      <td>6</td>\n",
       "      <td>Online</td>\n",
       "      <td>0</td>\n",
       "      <td>0</td>\n",
       "      <td>0</td>\n",
       "      <td>106.68</td>\n",
       "      <td>1</td>\n",
       "      <td>Not_Canceled</td>\n",
       "    </tr>\n",
       "    <tr>\n",
       "      <th>2</th>\n",
       "      <td>INN00003</td>\n",
       "      <td>1</td>\n",
       "      <td>0</td>\n",
       "      <td>2</td>\n",
       "      <td>1</td>\n",
       "      <td>Meal Plan 1</td>\n",
       "      <td>0</td>\n",
       "      <td>Room_Type 1</td>\n",
       "      <td>1</td>\n",
       "      <td>2018</td>\n",
       "      <td>2</td>\n",
       "      <td>28</td>\n",
       "      <td>Online</td>\n",
       "      <td>0</td>\n",
       "      <td>0</td>\n",
       "      <td>0</td>\n",
       "      <td>60.00</td>\n",
       "      <td>0</td>\n",
       "      <td>Canceled</td>\n",
       "    </tr>\n",
       "    <tr>\n",
       "      <th>3</th>\n",
       "      <td>INN00004</td>\n",
       "      <td>2</td>\n",
       "      <td>0</td>\n",
       "      <td>0</td>\n",
       "      <td>2</td>\n",
       "      <td>Meal Plan 1</td>\n",
       "      <td>0</td>\n",
       "      <td>Room_Type 1</td>\n",
       "      <td>211</td>\n",
       "      <td>2018</td>\n",
       "      <td>5</td>\n",
       "      <td>20</td>\n",
       "      <td>Online</td>\n",
       "      <td>0</td>\n",
       "      <td>0</td>\n",
       "      <td>0</td>\n",
       "      <td>100.00</td>\n",
       "      <td>0</td>\n",
       "      <td>Canceled</td>\n",
       "    </tr>\n",
       "    <tr>\n",
       "      <th>4</th>\n",
       "      <td>INN00005</td>\n",
       "      <td>2</td>\n",
       "      <td>0</td>\n",
       "      <td>1</td>\n",
       "      <td>1</td>\n",
       "      <td>Not Selected</td>\n",
       "      <td>0</td>\n",
       "      <td>Room_Type 1</td>\n",
       "      <td>48</td>\n",
       "      <td>2018</td>\n",
       "      <td>4</td>\n",
       "      <td>11</td>\n",
       "      <td>Online</td>\n",
       "      <td>0</td>\n",
       "      <td>0</td>\n",
       "      <td>0</td>\n",
       "      <td>94.50</td>\n",
       "      <td>0</td>\n",
       "      <td>Canceled</td>\n",
       "    </tr>\n",
       "  </tbody>\n",
       "</table>\n",
       "</div>"
      ],
      "text/plain": [
       "  Booking_ID  no_of_adults  no_of_children  no_of_weekend_nights  \\\n",
       "0   INN00001             2               0                     1   \n",
       "1   INN00002             2               0                     2   \n",
       "2   INN00003             1               0                     2   \n",
       "3   INN00004             2               0                     0   \n",
       "4   INN00005             2               0                     1   \n",
       "\n",
       "   no_of_week_nights type_of_meal_plan  required_car_parking_space  \\\n",
       "0                  2       Meal Plan 1                           0   \n",
       "1                  3      Not Selected                           0   \n",
       "2                  1       Meal Plan 1                           0   \n",
       "3                  2       Meal Plan 1                           0   \n",
       "4                  1      Not Selected                           0   \n",
       "\n",
       "  room_type_reserved  lead_time  arrival_year  arrival_month  arrival_date  \\\n",
       "0        Room_Type 1        224          2017             10             2   \n",
       "1        Room_Type 1          5          2018             11             6   \n",
       "2        Room_Type 1          1          2018              2            28   \n",
       "3        Room_Type 1        211          2018              5            20   \n",
       "4        Room_Type 1         48          2018              4            11   \n",
       "\n",
       "  market_segment_type  repeated_guest  no_of_previous_cancellations  \\\n",
       "0             Offline               0                             0   \n",
       "1              Online               0                             0   \n",
       "2              Online               0                             0   \n",
       "3              Online               0                             0   \n",
       "4              Online               0                             0   \n",
       "\n",
       "   no_of_previous_bookings_not_canceled  avg_price_per_room  \\\n",
       "0                                     0               65.00   \n",
       "1                                     0              106.68   \n",
       "2                                     0               60.00   \n",
       "3                                     0              100.00   \n",
       "4                                     0               94.50   \n",
       "\n",
       "   no_of_special_requests booking_status  \n",
       "0                       0   Not_Canceled  \n",
       "1                       1   Not_Canceled  \n",
       "2                       0       Canceled  \n",
       "3                       0       Canceled  \n",
       "4                       0       Canceled  "
      ]
     },
     "execution_count": 22,
     "metadata": {},
     "output_type": "execute_result"
    }
   ],
   "source": [
    "hotel.head()"
   ]
  },
  {
   "cell_type": "code",
   "execution_count": 5,
   "metadata": {},
   "outputs": [
    {
     "data": {
      "text/plain": [
       "(36275, 19)"
      ]
     },
     "execution_count": 5,
     "metadata": {},
     "output_type": "execute_result"
    }
   ],
   "source": [
    "hotel.shape"
   ]
  },
  {
   "cell_type": "code",
   "execution_count": 27,
   "metadata": {},
   "outputs": [
    {
     "name": "stdout",
     "output_type": "stream",
     "text": [
      "<class 'pandas.core.frame.DataFrame'>\n",
      "RangeIndex: 36275 entries, 0 to 36274\n",
      "Data columns (total 13 columns):\n",
      " #   Column                      Non-Null Count  Dtype         \n",
      "---  ------                      --------------  -----         \n",
      " 0   type_of_meal_plan           36275 non-null  object        \n",
      " 1   required_car_parking_space  36275 non-null  int64         \n",
      " 2   room_type_reserved          36275 non-null  object        \n",
      " 3   lead_time                   36275 non-null  int64         \n",
      " 4   market_segment_type         36275 non-null  object        \n",
      " 5   repeated_guest              36275 non-null  int64         \n",
      " 6   avg_price_per_room          36275 non-null  float64       \n",
      " 7   no_of_special_requests      36275 non-null  int64         \n",
      " 8   booking_status              36275 non-null  object        \n",
      " 9   arrival                     36275 non-null  datetime64[ns]\n",
      " 10  total_people                36275 non-null  int64         \n",
      " 11  total_nights                36275 non-null  int64         \n",
      " 12  previous_booking            36275 non-null  int64         \n",
      "dtypes: datetime64[ns](1), float64(1), int64(7), object(4)\n",
      "memory usage: 3.6+ MB\n"
     ]
    }
   ],
   "source": [
    "hotel.info()"
   ]
  },
  {
   "attachments": {},
   "cell_type": "markdown",
   "metadata": {},
   "source": [
    "Las variables del dataset son:\n",
    "- Booking_ID: ID de reserva.\n",
    "- no_of_adults: número de adultos.\n",
    "- no_of_children: número de niños.\n",
    "- no_of_weekend_nights: número de noches de fin de semana reservado.\n",
    "- no_of_week_nights: número de noches de dias de semana reservado.\n",
    "- type_of_meal_plan: plan de alimentación elegido.\n",
    "- required_car_parking_space: si requiere estacionamiento o no.\n",
    "- room_type_reserved: tipo de habitación reservada.\n",
    "- lead_time: cantidad de dias en que hace la reservación.\n",
    "- arrival_year: año de llegada al hotel.\n",
    "- arrival_month: mes de llegada al hotel.\n",
    "- arrival_date: dia de llegada al hotel.\n",
    "- market_segment_type: lugar desde el que se realizo la reserva.\n",
    "- repeated_guest: si la persona que reserva ya habia reservado con anterioridad.\n",
    "- no_of_previous_cancellations: cantidad de cancelaciones previas.\n",
    "- no_of_previous_bookings_not_canceled: cantidad de reservas previas no canceladas.\n",
    "- avg_price_per_room: precio promedio por habitación.\n",
    "- no_of_special_requests: cantidad de pedidos especiales.\n",
    "- booking_status: estado final de la reserva."
   ]
  },
  {
   "cell_type": "code",
   "execution_count": 23,
   "metadata": {},
   "outputs": [],
   "source": [
    "# unifico las variables arrival para crear una unica variable con la fecha\n",
    "\n",
    "from datetime import datetime\n",
    "\n",
    "hotel['arrival'] = hotel['arrival_year'].astype(str) + '-' + hotel['arrival_month'].astype(str) + '-' + hotel['arrival_date'].astype(str)\n",
    "hotel['arrival'] = pd.to_datetime(hotel['arrival'], format='%Y-%m-%d')"
   ]
  },
  {
   "cell_type": "code",
   "execution_count": 24,
   "metadata": {},
   "outputs": [],
   "source": [
    "# unifico las variables de adults y children para ver el total de personas.\n",
    "hotel['total_people'] = hotel['no_of_adults'] + hotel['no_of_children']\n",
    "\n",
    "# unifico el numero de nights para ver su total\n",
    "hotel['total_nights'] = hotel['no_of_weekend_nights'] + hotel['no_of_week_nights']\n",
    "\n",
    "# unifico el numero de reservas anteriores\n",
    "hotel['previous_booking'] = hotel['no_of_previous_bookings_not_canceled'] + hotel['no_of_previous_cancellations']"
   ]
  },
  {
   "cell_type": "code",
   "execution_count": 25,
   "metadata": {},
   "outputs": [],
   "source": [
    "# elimino las columnas unificadas\n",
    "hotel = hotel.drop(columns=['Booking_ID','no_of_adults','no_of_children','no_of_weekend_nights','no_of_week_nights','arrival_year','arrival_month','arrival_date','no_of_previous_cancellations','no_of_previous_bookings_not_canceled'], axis=1)"
   ]
  },
  {
   "cell_type": "code",
   "execution_count": 26,
   "metadata": {},
   "outputs": [
    {
     "data": {
      "text/html": [
       "<div>\n",
       "<style scoped>\n",
       "    .dataframe tbody tr th:only-of-type {\n",
       "        vertical-align: middle;\n",
       "    }\n",
       "\n",
       "    .dataframe tbody tr th {\n",
       "        vertical-align: top;\n",
       "    }\n",
       "\n",
       "    .dataframe thead th {\n",
       "        text-align: right;\n",
       "    }\n",
       "</style>\n",
       "<table border=\"1\" class=\"dataframe\">\n",
       "  <thead>\n",
       "    <tr style=\"text-align: right;\">\n",
       "      <th></th>\n",
       "      <th>type_of_meal_plan</th>\n",
       "      <th>required_car_parking_space</th>\n",
       "      <th>room_type_reserved</th>\n",
       "      <th>lead_time</th>\n",
       "      <th>market_segment_type</th>\n",
       "      <th>repeated_guest</th>\n",
       "      <th>avg_price_per_room</th>\n",
       "      <th>no_of_special_requests</th>\n",
       "      <th>booking_status</th>\n",
       "      <th>arrival</th>\n",
       "      <th>total_people</th>\n",
       "      <th>total_nights</th>\n",
       "      <th>previous_booking</th>\n",
       "    </tr>\n",
       "  </thead>\n",
       "  <tbody>\n",
       "    <tr>\n",
       "      <th>0</th>\n",
       "      <td>Meal Plan 1</td>\n",
       "      <td>0</td>\n",
       "      <td>Room_Type 1</td>\n",
       "      <td>224</td>\n",
       "      <td>Offline</td>\n",
       "      <td>0</td>\n",
       "      <td>65.00</td>\n",
       "      <td>0</td>\n",
       "      <td>Not_Canceled</td>\n",
       "      <td>2017-10-02</td>\n",
       "      <td>2</td>\n",
       "      <td>3</td>\n",
       "      <td>0</td>\n",
       "    </tr>\n",
       "    <tr>\n",
       "      <th>1</th>\n",
       "      <td>Not Selected</td>\n",
       "      <td>0</td>\n",
       "      <td>Room_Type 1</td>\n",
       "      <td>5</td>\n",
       "      <td>Online</td>\n",
       "      <td>0</td>\n",
       "      <td>106.68</td>\n",
       "      <td>1</td>\n",
       "      <td>Not_Canceled</td>\n",
       "      <td>2018-11-06</td>\n",
       "      <td>2</td>\n",
       "      <td>5</td>\n",
       "      <td>0</td>\n",
       "    </tr>\n",
       "    <tr>\n",
       "      <th>2</th>\n",
       "      <td>Meal Plan 1</td>\n",
       "      <td>0</td>\n",
       "      <td>Room_Type 1</td>\n",
       "      <td>1</td>\n",
       "      <td>Online</td>\n",
       "      <td>0</td>\n",
       "      <td>60.00</td>\n",
       "      <td>0</td>\n",
       "      <td>Canceled</td>\n",
       "      <td>2018-02-28</td>\n",
       "      <td>1</td>\n",
       "      <td>3</td>\n",
       "      <td>0</td>\n",
       "    </tr>\n",
       "    <tr>\n",
       "      <th>3</th>\n",
       "      <td>Meal Plan 1</td>\n",
       "      <td>0</td>\n",
       "      <td>Room_Type 1</td>\n",
       "      <td>211</td>\n",
       "      <td>Online</td>\n",
       "      <td>0</td>\n",
       "      <td>100.00</td>\n",
       "      <td>0</td>\n",
       "      <td>Canceled</td>\n",
       "      <td>2018-05-20</td>\n",
       "      <td>2</td>\n",
       "      <td>2</td>\n",
       "      <td>0</td>\n",
       "    </tr>\n",
       "    <tr>\n",
       "      <th>4</th>\n",
       "      <td>Not Selected</td>\n",
       "      <td>0</td>\n",
       "      <td>Room_Type 1</td>\n",
       "      <td>48</td>\n",
       "      <td>Online</td>\n",
       "      <td>0</td>\n",
       "      <td>94.50</td>\n",
       "      <td>0</td>\n",
       "      <td>Canceled</td>\n",
       "      <td>2018-04-11</td>\n",
       "      <td>2</td>\n",
       "      <td>2</td>\n",
       "      <td>0</td>\n",
       "    </tr>\n",
       "  </tbody>\n",
       "</table>\n",
       "</div>"
      ],
      "text/plain": [
       "  type_of_meal_plan  required_car_parking_space room_type_reserved  lead_time  \\\n",
       "0       Meal Plan 1                           0        Room_Type 1        224   \n",
       "1      Not Selected                           0        Room_Type 1          5   \n",
       "2       Meal Plan 1                           0        Room_Type 1          1   \n",
       "3       Meal Plan 1                           0        Room_Type 1        211   \n",
       "4      Not Selected                           0        Room_Type 1         48   \n",
       "\n",
       "  market_segment_type  repeated_guest  avg_price_per_room  \\\n",
       "0             Offline               0               65.00   \n",
       "1              Online               0              106.68   \n",
       "2              Online               0               60.00   \n",
       "3              Online               0              100.00   \n",
       "4              Online               0               94.50   \n",
       "\n",
       "   no_of_special_requests booking_status    arrival  total_people  \\\n",
       "0                       0   Not_Canceled 2017-10-02             2   \n",
       "1                       1   Not_Canceled 2018-11-06             2   \n",
       "2                       0       Canceled 2018-02-28             1   \n",
       "3                       0       Canceled 2018-05-20             2   \n",
       "4                       0       Canceled 2018-04-11             2   \n",
       "\n",
       "   total_nights  previous_booking  \n",
       "0             3                 0  \n",
       "1             5                 0  \n",
       "2             3                 0  \n",
       "3             2                 0  \n",
       "4             2                 0  "
      ]
     },
     "execution_count": 26,
     "metadata": {},
     "output_type": "execute_result"
    }
   ],
   "source": [
    "hotel.head()"
   ]
  },
  {
   "cell_type": "code",
   "execution_count": 12,
   "metadata": {},
   "outputs": [
    {
     "data": {
      "text/plain": [
       "(36275, 14)"
      ]
     },
     "execution_count": 12,
     "metadata": {},
     "output_type": "execute_result"
    }
   ],
   "source": [
    "hotel.shape"
   ]
  },
  {
   "attachments": {},
   "cell_type": "markdown",
   "metadata": {},
   "source": [
    "### Gráficos descriptivos"
   ]
  },
  {
   "cell_type": "code",
   "execution_count": 38,
   "metadata": {},
   "outputs": [
    {
     "data": {
      "image/png": "[encoded data removed]",
      "text/plain": [
       "<Figure size 640x480 with 1 Axes>"
      ]
     },
     "metadata": {},
     "output_type": "display_data"
    }
   ],
   "source": [
    "hs = sns.countplot(data=hotel, x= \"booking_status\", palette='deep')\n",
    "hs.set_title('Cantidad de reservas según su estado')\n",
    "labels = ('No cancelada', 'Cancelada')\n",
    "hs.set_ylabel('Cantidad de resesrvas')\n",
    "hs.set_xlabel('Estado de reserva')\n",
    "hs.set_xticklabels(labels)\n",
    "plt.show()"
   ]
  },
  {
   "cell_type": "code",
   "execution_count": 41,
   "metadata": {},
   "outputs": [
    {
     "data": {
      "text/plain": [
       "Not_Canceled    67.236389\n",
       "Canceled        32.763611\n",
       "Name: booking_status, dtype: float64"
      ]
     },
     "execution_count": 41,
     "metadata": {},
     "output_type": "execute_result"
    }
   ],
   "source": [
    "hotel['booking_status'].value_counts().mul(100)/len(hotel)"
   ]
  },
  {
   "attachments": {},
   "cell_type": "markdown",
   "metadata": {},
   "source": [
    "*De acuerdo a lo observado, las reservas NO CANCELADAS alcanzan un total aproximado de 67%, mientras que las reservas CANCELADAS son de alrededor del 33%.*"
   ]
  },
  {
   "cell_type": "code",
   "execution_count": 44,
   "metadata": {},
   "outputs": [
    {
     "data": {
      "text/plain": [
       "Text(0.5, 1.0, 'Lead Time vs. Status')"
      ]
     },
     "execution_count": 44,
     "metadata": {},
     "output_type": "execute_result"
    },
    {
     "data": {
      "image/png": "[encoded data removed]",
      "text/plain": [
       "<Figure size 640x480 with 1 Axes>"
      ]
     },
     "metadata": {},
     "output_type": "display_data"
    }
   ],
   "source": [
    "hl = sns.boxplot(x='booking_status', y='lead_time', data = hotel)\n",
    "sns.set(font_scale=1)\n",
    "hl.set_ylabel('Tiempo de espera')\n",
    "hl.set_xlabel('Estado de reserva')\n",
    "hl.set_xticklabels(labels)\n",
    "plt.title(\"Lead Time vs. Status\")"
   ]
  },
  {
   "cell_type": "code",
   "execution_count": 45,
   "metadata": {},
   "outputs": [
    {
     "data": {
      "text/plain": [
       "count    36275.000000\n",
       "mean        85.232557\n",
       "std         85.930817\n",
       "min          0.000000\n",
       "25%         17.000000\n",
       "50%         57.000000\n",
       "75%        126.000000\n",
       "max        443.000000\n",
       "Name: lead_time, dtype: float64"
      ]
     },
     "execution_count": 45,
     "metadata": {},
     "output_type": "execute_result"
    }
   ],
   "source": [
    "hotel['lead_time'].describe()"
   ]
  },
  {
   "attachments": {},
   "cell_type": "markdown",
   "metadata": {},
   "source": [
    "*En función de lo que visualizamos, podemos determinar que a mayor cantidad de dias de espera para el arribo al hotel, mayor es la tasa de cancelaciones, llegando incluso a visualizar \"outliers\" con valores mayores a 400 dias. Sin embargo, hay reservas con tiempos de espera menores a esa cantidad que no fueron canceladas*"
   ]
  },
  {
   "cell_type": "code",
   "execution_count": 52,
   "metadata": {},
   "outputs": [
    {
     "data": {
      "text/html": [
       "<div>\n",
       "<style scoped>\n",
       "    .dataframe tbody tr th:only-of-type {\n",
       "        vertical-align: middle;\n",
       "    }\n",
       "\n",
       "    .dataframe tbody tr th {\n",
       "        vertical-align: top;\n",
       "    }\n",
       "\n",
       "    .dataframe thead tr th {\n",
       "        text-align: left;\n",
       "    }\n",
       "\n",
       "    .dataframe thead tr:last-of-type th {\n",
       "        text-align: right;\n",
       "    }\n",
       "</style>\n",
       "<table border=\"1\" class=\"dataframe\">\n",
       "  <thead>\n",
       "    <tr>\n",
       "      <th>market_segment_type</th>\n",
       "      <th>Aviation</th>\n",
       "      <th colspan=\"4\" halign=\"left\">Complementary</th>\n",
       "      <th colspan=\"3\" halign=\"left\">Corporate</th>\n",
       "      <th colspan=\"4\" halign=\"left\">Offline</th>\n",
       "      <th colspan=\"3\" halign=\"left\">Online</th>\n",
       "    </tr>\n",
       "    <tr>\n",
       "      <th>type_of_meal_plan</th>\n",
       "      <th>Meal Plan 1</th>\n",
       "      <th>Meal Plan 1</th>\n",
       "      <th>Meal Plan 2</th>\n",
       "      <th>Meal Plan 3</th>\n",
       "      <th>Not Selected</th>\n",
       "      <th>Meal Plan 1</th>\n",
       "      <th>Meal Plan 2</th>\n",
       "      <th>Not Selected</th>\n",
       "      <th>Meal Plan 1</th>\n",
       "      <th>Meal Plan 2</th>\n",
       "      <th>Meal Plan 3</th>\n",
       "      <th>Not Selected</th>\n",
       "      <th>Meal Plan 1</th>\n",
       "      <th>Meal Plan 2</th>\n",
       "      <th>Not Selected</th>\n",
       "    </tr>\n",
       "    <tr>\n",
       "      <th>booking_status</th>\n",
       "      <th></th>\n",
       "      <th></th>\n",
       "      <th></th>\n",
       "      <th></th>\n",
       "      <th></th>\n",
       "      <th></th>\n",
       "      <th></th>\n",
       "      <th></th>\n",
       "      <th></th>\n",
       "      <th></th>\n",
       "      <th></th>\n",
       "      <th></th>\n",
       "      <th></th>\n",
       "      <th></th>\n",
       "      <th></th>\n",
       "    </tr>\n",
       "  </thead>\n",
       "  <tbody>\n",
       "    <tr>\n",
       "      <th>Canceled</th>\n",
       "      <td>37</td>\n",
       "      <td>0</td>\n",
       "      <td>0</td>\n",
       "      <td>0</td>\n",
       "      <td>0</td>\n",
       "      <td>213</td>\n",
       "      <td>0</td>\n",
       "      <td>7</td>\n",
       "      <td>2176</td>\n",
       "      <td>961</td>\n",
       "      <td>1</td>\n",
       "      <td>15</td>\n",
       "      <td>6253</td>\n",
       "      <td>545</td>\n",
       "      <td>1677</td>\n",
       "    </tr>\n",
       "    <tr>\n",
       "      <th>Not_Canceled</th>\n",
       "      <td>88</td>\n",
       "      <td>370</td>\n",
       "      <td>11</td>\n",
       "      <td>4</td>\n",
       "      <td>6</td>\n",
       "      <td>1783</td>\n",
       "      <td>6</td>\n",
       "      <td>8</td>\n",
       "      <td>5812</td>\n",
       "      <td>1404</td>\n",
       "      <td>0</td>\n",
       "      <td>159</td>\n",
       "      <td>11103</td>\n",
       "      <td>378</td>\n",
       "      <td>3258</td>\n",
       "    </tr>\n",
       "  </tbody>\n",
       "</table>\n",
       "</div>"
      ],
      "text/plain": [
       "market_segment_type    Aviation Complementary                          \\\n",
       "type_of_meal_plan   Meal Plan 1   Meal Plan 1 Meal Plan 2 Meal Plan 3   \n",
       "booking_status                                                          \n",
       "Canceled                     37             0           0           0   \n",
       "Not_Canceled                 88           370          11           4   \n",
       "\n",
       "market_segment_type                Corporate                           \\\n",
       "type_of_meal_plan   Not Selected Meal Plan 1 Meal Plan 2 Not Selected   \n",
       "booking_status                                                          \n",
       "Canceled                       0         213           0            7   \n",
       "Not_Canceled                   6        1783           6            8   \n",
       "\n",
       "market_segment_type     Offline                                       \\\n",
       "type_of_meal_plan   Meal Plan 1 Meal Plan 2 Meal Plan 3 Not Selected   \n",
       "booking_status                                                         \n",
       "Canceled                   2176         961           1           15   \n",
       "Not_Canceled               5812        1404           0          159   \n",
       "\n",
       "market_segment_type      Online                           \n",
       "type_of_meal_plan   Meal Plan 1 Meal Plan 2 Not Selected  \n",
       "booking_status                                            \n",
       "Canceled                   6253         545         1677  \n",
       "Not_Canceled              11103         378         3258  "
      ]
     },
     "execution_count": 52,
     "metadata": {},
     "output_type": "execute_result"
    }
   ],
   "source": [
    "hotel_pivot = pd.pivot_table(hotel.reset_index(),columns=['market_segment_type','type_of_meal_plan'],\n",
    "                             index=['booking_status'],\n",
    "                             values='index',\n",
    "                             fill_value=0,\n",
    "                             aggfunc=len)\n",
    "hotel_pivot"
   ]
  },
  {
   "cell_type": "code",
   "execution_count": 53,
   "metadata": {},
   "outputs": [
    {
     "data": {
      "text/html": [
       "<div>\n",
       "<style scoped>\n",
       "    .dataframe tbody tr th:only-of-type {\n",
       "        vertical-align: middle;\n",
       "    }\n",
       "\n",
       "    .dataframe tbody tr th {\n",
       "        vertical-align: top;\n",
       "    }\n",
       "\n",
       "    .dataframe thead tr th {\n",
       "        text-align: left;\n",
       "    }\n",
       "\n",
       "    .dataframe thead tr:last-of-type th {\n",
       "        text-align: right;\n",
       "    }\n",
       "</style>\n",
       "<table border=\"1\" class=\"dataframe\">\n",
       "  <thead>\n",
       "    <tr>\n",
       "      <th>market_segment_type</th>\n",
       "      <th>Aviation</th>\n",
       "      <th colspan=\"4\" halign=\"left\">Complementary</th>\n",
       "      <th colspan=\"3\" halign=\"left\">Corporate</th>\n",
       "      <th colspan=\"4\" halign=\"left\">Offline</th>\n",
       "      <th colspan=\"3\" halign=\"left\">Online</th>\n",
       "    </tr>\n",
       "    <tr>\n",
       "      <th>type_of_meal_plan</th>\n",
       "      <th>Meal Plan 1</th>\n",
       "      <th>Meal Plan 1</th>\n",
       "      <th>Meal Plan 2</th>\n",
       "      <th>Meal Plan 3</th>\n",
       "      <th>Not Selected</th>\n",
       "      <th>Meal Plan 1</th>\n",
       "      <th>Meal Plan 2</th>\n",
       "      <th>Not Selected</th>\n",
       "      <th>Meal Plan 1</th>\n",
       "      <th>Meal Plan 2</th>\n",
       "      <th>Meal Plan 3</th>\n",
       "      <th>Not Selected</th>\n",
       "      <th>Meal Plan 1</th>\n",
       "      <th>Meal Plan 2</th>\n",
       "      <th>Not Selected</th>\n",
       "    </tr>\n",
       "    <tr>\n",
       "      <th>booking_status</th>\n",
       "      <th></th>\n",
       "      <th></th>\n",
       "      <th></th>\n",
       "      <th></th>\n",
       "      <th></th>\n",
       "      <th></th>\n",
       "      <th></th>\n",
       "      <th></th>\n",
       "      <th></th>\n",
       "      <th></th>\n",
       "      <th></th>\n",
       "      <th></th>\n",
       "      <th></th>\n",
       "      <th></th>\n",
       "      <th></th>\n",
       "    </tr>\n",
       "  </thead>\n",
       "  <tbody>\n",
       "    <tr>\n",
       "      <th>Canceled</th>\n",
       "      <td>0.101999</td>\n",
       "      <td>0.000000</td>\n",
       "      <td>0.000000</td>\n",
       "      <td>0.000000</td>\n",
       "      <td>0.00000</td>\n",
       "      <td>0.587181</td>\n",
       "      <td>0.00000</td>\n",
       "      <td>0.019297</td>\n",
       "      <td>5.998622</td>\n",
       "      <td>2.649207</td>\n",
       "      <td>0.002757</td>\n",
       "      <td>0.041351</td>\n",
       "      <td>17.237767</td>\n",
       "      <td>1.502412</td>\n",
       "      <td>4.623019</td>\n",
       "    </tr>\n",
       "    <tr>\n",
       "      <th>Not_Canceled</th>\n",
       "      <td>0.242591</td>\n",
       "      <td>1.019986</td>\n",
       "      <td>0.030324</td>\n",
       "      <td>0.011027</td>\n",
       "      <td>0.01654</td>\n",
       "      <td>4.915231</td>\n",
       "      <td>0.01654</td>\n",
       "      <td>0.022054</td>\n",
       "      <td>16.022054</td>\n",
       "      <td>3.870434</td>\n",
       "      <td>0.000000</td>\n",
       "      <td>0.438318</td>\n",
       "      <td>30.607857</td>\n",
       "      <td>1.042040</td>\n",
       "      <td>8.981392</td>\n",
       "    </tr>\n",
       "  </tbody>\n",
       "</table>\n",
       "</div>"
      ],
      "text/plain": [
       "market_segment_type    Aviation Complementary                          \\\n",
       "type_of_meal_plan   Meal Plan 1   Meal Plan 1 Meal Plan 2 Meal Plan 3   \n",
       "booking_status                                                          \n",
       "Canceled               0.101999      0.000000    0.000000    0.000000   \n",
       "Not_Canceled           0.242591      1.019986    0.030324    0.011027   \n",
       "\n",
       "market_segment_type                Corporate                           \\\n",
       "type_of_meal_plan   Not Selected Meal Plan 1 Meal Plan 2 Not Selected   \n",
       "booking_status                                                          \n",
       "Canceled                 0.00000    0.587181     0.00000     0.019297   \n",
       "Not_Canceled             0.01654    4.915231     0.01654     0.022054   \n",
       "\n",
       "market_segment_type     Offline                                       \\\n",
       "type_of_meal_plan   Meal Plan 1 Meal Plan 2 Meal Plan 3 Not Selected   \n",
       "booking_status                                                         \n",
       "Canceled               5.998622    2.649207    0.002757     0.041351   \n",
       "Not_Canceled          16.022054    3.870434    0.000000     0.438318   \n",
       "\n",
       "market_segment_type      Online                           \n",
       "type_of_meal_plan   Meal Plan 1 Meal Plan 2 Not Selected  \n",
       "booking_status                                            \n",
       "Canceled              17.237767    1.502412     4.623019  \n",
       "Not_Canceled          30.607857    1.042040     8.981392  "
      ]
     },
     "execution_count": 53,
     "metadata": {},
     "output_type": "execute_result"
    }
   ],
   "source": [
    "hotel_pivot_def = hotel_pivot/len(hotel)*100\n",
    "hotel_pivot_def"
   ]
  },
  {
   "attachments": {},
   "cell_type": "markdown",
   "metadata": {},
   "source": [
    "*Analizando las variables de segmento de mercado de acuerdo al plan de comidas y al estado de las reservas, se puede determinar que en el segmento \"Complementary\", para todos sus planes de comida, no se realizan cancelaciones; si podemos observar que las mayores cancelaciones se producen para las reservas \"Online\" y el plan de comidas \"Meal Plan 1\".*\n",
    "\n",
    "*Tambien se visualiza claramente que, para aquellas reservas que no son canceladas, el plan de comidas \"Meal Plan 1\" tiene una alta incidencia en dicha decisión( al igual que con las canceladas), por lo que la variable termina teniendo relevancia en nuestro análisis.*"
   ]
  }
 ],
 "metadata": {
  "kernelspec": {
   "display_name": "Python 3",
   "language": "python",
   "name": "python3"
  },
  "language_info": {
   "codemirror_mode": {
    "name": "ipython",
    "version": 3
   },
   "file_extension": ".py",
   "mimetype": "text/x-python",
   "name": "python",
   "nbconvert_exporter": "python",
   "pygments_lexer": "ipython3",
   "version": "3.10.10"
  },
  "orig_nbformat": 4
 },
 "nbformat": 4,
 "nbformat_minor": 2
}
