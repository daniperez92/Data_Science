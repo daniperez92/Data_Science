{
 "cells": [
  {
   "attachments": {},
   "cell_type": "markdown",
   "metadata": {},
   "source": [
    "### Importación de la librería Pandas."
   ]
  },
  {
   "cell_type": "code",
   "execution_count": 2,
   "metadata": {},
   "outputs": [],
   "source": [
    "import pandas as pd"
   ]
  },
  {
   "attachments": {},
   "cell_type": "markdown",
   "metadata": {},
   "source": [
    "### Importación de Datasets"
   ]
  },
  {
   "attachments": {},
   "cell_type": "markdown",
   "metadata": {},
   "source": [
    "##### Dataset - CalidadVino.csv\n",
    "\n",
    "    Este Dataset detalla la calidad de la variante roja del vino \"Vinho Verde\" de Portugal."
   ]
  },
  {
   "cell_type": "code",
   "execution_count": null,
   "metadata": {},
   "outputs": [],
   "source": [
    "Vino = pd.read_csv('./Datasets/CalidadVino.csv')"
   ]
  },
  {
   "attachments": {},
   "cell_type": "markdown",
   "metadata": {},
   "source": [
    "#### Dataset - EquipoAmbientalBarcelona.csv\n",
    "\n",
    "    Este Dataset muestra información relacionada al equipamiento para mediciones ambientales en la ciudad de Barcelona."
   ]
  },
  {
   "cell_type": "code",
   "execution_count": null,
   "metadata": {},
   "outputs": [],
   "source": [
    "Barcelona = pd.read_csv('./Datasets/EquipoAmbientalBarcelona.csv')"
   ]
  },
  {
   "attachments": {},
   "cell_type": "markdown",
   "metadata": {},
   "source": [
    "#### Dataset - Tenis2022.xlsx\n",
    "\n",
    "    El dataset presentado muestra la información obtenida del circuito anual de Tenis en el año 2022."
   ]
  },
  {
   "cell_type": "code",
   "execution_count": null,
   "metadata": {},
   "outputs": [],
   "source": [
    "Tenis = pd.read_excel('./Datasets/Tenis2022.xlsx')"
   ]
  },
  {
   "attachments": {},
   "cell_type": "markdown",
   "metadata": {},
   "source": [
    "#### Dataset - TraficoAereoPasajeros.csv\n",
    "\n",
    "    El set de datos contiene información sobre el tráfico aéreo de pasajeros por aerolinea, incluyendo los aeropuertos y regiones."
   ]
  },
  {
   "cell_type": "code",
   "execution_count": null,
   "metadata": {},
   "outputs": [],
   "source": [
    "Trafico = pd.read_csv('./Datasets/TraficoAereoPasajeros.csv')"
   ]
  },
  {
   "attachments": {},
   "cell_type": "markdown",
   "metadata": {},
   "source": [
    "#### Dataset - VinoEspañol.csv\n",
    "\n",
    "    Los datos mostrados en el dataset refieren a vinos españoles. Se describe popularidad y metricas sobre la calidad del mismo."
   ]
  },
  {
   "cell_type": "code",
   "execution_count": null,
   "metadata": {},
   "outputs": [],
   "source": [
    "España = pd.read_csv('./Datasets/VinoEspañol.csv')"
   ]
  }
 ],
 "metadata": {
  "kernelspec": {
   "display_name": "Python 3",
   "language": "python",
   "name": "python3"
  },
  "language_info": {
   "codemirror_mode": {
    "name": "ipython",
    "version": 3
   },
   "file_extension": ".py",
   "mimetype": "text/x-python",
   "name": "python",
   "nbconvert_exporter": "python",
   "pygments_lexer": "ipython3",
   "version": "3.10.9"
  },
  "orig_nbformat": 4,
  "vscode": {
   "interpreter": {
    "hash": "e1cf31f014a73b938e0e9c287d22cfcedd6b8087bbeae8633e5062f424295694"
   }
  }
 },
 "nbformat": 4,
 "nbformat_minor": 2
}
