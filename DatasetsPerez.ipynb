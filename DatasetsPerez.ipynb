{
 "cells": [
  {
   "attachments": {},
   "cell_type": "markdown",
   "metadata": {},
   "source": [
    "### Importación de la librería Pandas."
   ]
  },
  {
   "cell_type": "code",
   "execution_count": 1,
   "metadata": {},
   "outputs": [],
   "source": [
    "import pandas as pd\n",
    "pd.set_option('display.max_columns', 500)"
   ]
  },
  {
   "attachments": {},
   "cell_type": "markdown",
   "metadata": {},
   "source": [
    "### Importación de Datasets"
   ]
  },
  {
   "attachments": {},
   "cell_type": "markdown",
   "metadata": {},
   "source": [
    "#### Dataset - Tenis2022.xlsx\n",
    "\n",
    "    El dataset presentado muestra la información obtenida del circuito anual de Tenis en el año 2022."
   ]
  },
  {
   "cell_type": "code",
   "execution_count": 2,
   "metadata": {},
   "outputs": [],
   "source": [
    "Tenis = pd.read_excel('./Datasets/Tenis2022.xlsx')"
   ]
  },
  {
   "cell_type": "code",
   "execution_count": null,
   "metadata": {},
   "outputs": [],
   "source": [
    "Tenis.sample(20)"
   ]
  },
  {
   "cell_type": "code",
   "execution_count": null,
   "metadata": {},
   "outputs": [],
   "source": [
    "print(\"El dataset contiene {} filas y {} columnas\".format(*Tenis.shape))\n",
    "\n",
    "print(\"La cantidad de valores faltantes por columna es:\\n{}\".format(Tenis.isna().sum()))"
   ]
  },
  {
   "attachments": {},
   "cell_type": "markdown",
   "metadata": {},
   "source": [
    "A través del análisis podemos establecer los valores de las apuestas que se realizarán hacia los jugadores de acuerdo al torneo que jueguen."
   ]
  },
  {
   "attachments": {},
   "cell_type": "markdown",
   "metadata": {},
   "source": [
    "#### Dataset - VinoEspañol.csv\n",
    "\n",
    "    Los datos mostrados en el dataset refieren a vinos españoles. Se describe popularidad y metricas sobre la calidad del mismo."
   ]
  },
  {
   "cell_type": "code",
   "execution_count": 9,
   "metadata": {},
   "outputs": [],
   "source": [
    "España = pd.read_csv('./Datasets/VinoEspañol.csv')"
   ]
  },
  {
   "cell_type": "code",
   "execution_count": null,
   "metadata": {},
   "outputs": [],
   "source": [
    "España"
   ]
  },
  {
   "cell_type": "code",
   "execution_count": null,
   "metadata": {},
   "outputs": [],
   "source": [
    "print(\"El dataset contiene {} filas y {} columnas\".format(*España.shape))\n",
    "\n",
    "print(\"La cantidad de valores faltantes por columna es:\\n{}\".format(España.isna().sum()))"
   ]
  },
  {
   "attachments": {},
   "cell_type": "markdown",
   "metadata": {},
   "source": [
    "Con el análisis de la información a partir de la base de datos podremos predecir el mejor vino de España y predecir su precio."
   ]
  },
  {
   "attachments": {},
   "cell_type": "markdown",
   "metadata": {},
   "source": [
    "#### Dataset - PasajerosAerolinea.csv\n",
    "    Los datos obtenidos a partir del dataset nos muestra el indice de satisfacción de los pasajeros en vuelos de aerolinea."
   ]
  },
  {
   "cell_type": "code",
   "execution_count": null,
   "metadata": {},
   "outputs": [],
   "source": [
    "Pasajeros = pd.read_csv('./Datasets/PasajerosAerolinea.csv')"
   ]
  },
  {
   "cell_type": "code",
   "execution_count": null,
   "metadata": {},
   "outputs": [],
   "source": [
    "Pasajeros.head(10)"
   ]
  },
  {
   "cell_type": "code",
   "execution_count": null,
   "metadata": {},
   "outputs": [],
   "source": [
    "print(\"El dataset contiene {} filas y {} columnas\".format(*Pasajeros.shape))\n",
    "\n",
    "print(\"La cantidad de valores faltantes por columna es:\\n{}\".format(Pasajeros.isna().sum()))"
   ]
  },
  {
   "attachments": {},
   "cell_type": "markdown",
   "metadata": {},
   "source": [
    "Analizando el dataset intentaremos armar un modelo que nos permita predecir el tipo de vuelo que más satisfacción le produce a los pasajeros."
   ]
  },
  {
   "attachments": {},
   "cell_type": "markdown",
   "metadata": {},
   "source": [
    "#### Dataset - PersonalidadCliente.csv\n",
    "    Este dataset informa sobre los tipos de compras que realizan distintas personas, segun su edad, nivel de educación, estado civil, etc."
   ]
  },
  {
   "cell_type": "code",
   "execution_count": null,
   "metadata": {},
   "outputs": [],
   "source": [
    "Cliente = pd.read_csv('./Datasets/PersonalidadCliente.csv')"
   ]
  },
  {
   "cell_type": "code",
   "execution_count": null,
   "metadata": {},
   "outputs": [],
   "source": [
    "Cliente"
   ]
  },
  {
   "cell_type": "code",
   "execution_count": null,
   "metadata": {},
   "outputs": [],
   "source": [
    "print(\"El dataset contiene {} filas y {} columnas\".format(*Cliente.shape))\n",
    "\n",
    "print(\"La cantidad de valores faltantes por columna es:\\n{}\".format(Cliente.isna().sum()))"
   ]
  },
  {
   "attachments": {},
   "cell_type": "markdown",
   "metadata": {},
   "source": [
    "El modelo que se pretende armar a partir del dataset nos mostrara que tipo de compras se realizan de acuerdo a las características de los clientes."
   ]
  },
  {
   "attachments": {},
   "cell_type": "markdown",
   "metadata": {},
   "source": [
    "#### Dataset - ReservaHotel.csv\n",
    "    Este set de datos muestra información sobre las reservas y cancelaciones que se hacen en hoteles."
   ]
  },
  {
   "cell_type": "code",
   "execution_count": null,
   "metadata": {},
   "outputs": [],
   "source": [
    "Reserva = pd.read_csv('./Datasets/ReservaHotel.csv')"
   ]
  },
  {
   "cell_type": "code",
   "execution_count": null,
   "metadata": {},
   "outputs": [],
   "source": [
    "Reserva.tail(25)"
   ]
  },
  {
   "cell_type": "code",
   "execution_count": null,
   "metadata": {},
   "outputs": [],
   "source": [
    "print(\"El dataset contiene {} filas y {} columnas\".format(*Reserva.shape))\n",
    "\n",
    "print(\"La cantidad de valores faltantes por columna es:\\n{}\".format(Reserva.isna().sum()))"
   ]
  },
  {
   "attachments": {},
   "cell_type": "markdown",
   "metadata": {},
   "source": [
    "Observando el dataset podremos generar un modelo que nos permita ver si la reserva del hotel sera cancelada o no."
   ]
  }
 ],
 "metadata": {
  "kernelspec": {
   "display_name": "Python 3",
   "language": "python",
   "name": "python3"
  },
  "language_info": {
   "codemirror_mode": {
    "name": "ipython",
    "version": 3
   },
   "file_extension": ".py",
   "mimetype": "text/x-python",
   "name": "python",
   "nbconvert_exporter": "python",
   "pygments_lexer": "ipython3",
   "version": "3.10.9"
  },
  "orig_nbformat": 4,
  "vscode": {
   "interpreter": {
    "hash": "e1cf31f014a73b938e0e9c287d22cfcedd6b8087bbeae8633e5062f424295694"
   }
  }
 },
 "nbformat": 4,
 "nbformat_minor": 2
}
