{
 "cells": [
  {
   "attachments": {},
   "cell_type": "markdown",
   "metadata": {},
   "source": [
    "### Importación de la librería Pandas."
   ]
  },
  {
   "cell_type": "code",
   "execution_count": 2,
   "metadata": {},
   "outputs": [],
   "source": [
    "import pandas as pd"
   ]
  },
  {
   "attachments": {},
   "cell_type": "markdown",
   "metadata": {},
   "source": [
    "### Importación de Datasets"
   ]
  },
  {
   "attachments": {},
   "cell_type": "markdown",
   "metadata": {},
   "source": [
    "##### Dataset - CalidadVino.csv\n",
    "\n",
    "    Este Dataset detalla la calidad de la variante roja del vino \"Vinho Verde\" de Portugal."
   ]
  },
  {
   "cell_type": "code",
   "execution_count": 3,
   "metadata": {},
   "outputs": [],
   "source": [
    "Vino = pd.read_csv('./Datasets/CalidadVino.csv')"
   ]
  },
  {
   "cell_type": "code",
   "execution_count": null,
   "metadata": {},
   "outputs": [],
   "source": [
    "Vino"
   ]
  },
  {
   "cell_type": "code",
   "execution_count": null,
   "metadata": {},
   "outputs": [],
   "source": [
    "print(\"El dataset contiene {} filas y {} columnas\".format(*Vino.shape))\n",
    "\n",
    "print(\"La cantidad de valores faltantes por columna es:\\n{}\".format(Vino.isna().sum()))"
   ]
  },
  {
   "attachments": {},
   "cell_type": "markdown",
   "metadata": {},
   "source": [
    "Dentro del contexto comercial interesa trabajar con todos los datos para hallar la mejor calidad de vino posible."
   ]
  },
  {
   "attachments": {},
   "cell_type": "markdown",
   "metadata": {},
   "source": [
    "#### Dataset - EquipoAmbientalBarcelona.csv\n",
    "\n",
    "    Este Dataset muestra información relacionada al equipamiento para mediciones ambientales en la ciudad de Barcelona."
   ]
  },
  {
   "cell_type": "code",
   "execution_count": 5,
   "metadata": {},
   "outputs": [],
   "source": [
    "Barcelona = pd.read_csv('./Datasets/EquipoAmbBna.csv', encoding=\"utf-16\")"
   ]
  },
  {
   "cell_type": "code",
   "execution_count": null,
   "metadata": {},
   "outputs": [],
   "source": [
    "Barcelona"
   ]
  },
  {
   "cell_type": "code",
   "execution_count": null,
   "metadata": {},
   "outputs": [],
   "source": [
    "print(\"El dataset contiene {} filas y {} columnas\".format(*Barcelona.shape))\n",
    "\n",
    "print(\"La cantidad de valores faltantes por columna es:\\n{}\".format(Barcelona.isna().sum()))"
   ]
  },
  {
   "attachments": {},
   "cell_type": "markdown",
   "metadata": {},
   "source": [
    "Para el análisis de este set no se encuentra datos con los cuales realizar un análisis de negocio."
   ]
  },
  {
   "attachments": {},
   "cell_type": "markdown",
   "metadata": {},
   "source": [
    "#### Dataset - Tenis2022.xlsx\n",
    "\n",
    "    El dataset presentado muestra la información obtenida del circuito anual de Tenis en el año 2022."
   ]
  },
  {
   "cell_type": "code",
   "execution_count": 7,
   "metadata": {},
   "outputs": [],
   "source": [
    "Tenis = pd.read_excel('./Datasets/Tenis2022.xlsx')"
   ]
  },
  {
   "cell_type": "code",
   "execution_count": null,
   "metadata": {},
   "outputs": [],
   "source": [
    "Tenis"
   ]
  },
  {
   "cell_type": "code",
   "execution_count": null,
   "metadata": {},
   "outputs": [],
   "source": [
    "print(\"El dataset contiene {} filas y {} columnas\".format(*Tenis.shape))\n",
    "\n",
    "print(\"La cantidad de valores faltantes por columna es:\\n{}\".format(Tenis.isna().sum()))"
   ]
  },
  {
   "attachments": {},
   "cell_type": "markdown",
   "metadata": {},
   "source": [
    "A través del análisis podemos establecer los valores de las apuestas que se realizarán hacia los jugadores de acuerdo al torneo que jueguen."
   ]
  },
  {
   "attachments": {},
   "cell_type": "markdown",
   "metadata": {},
   "source": [
    "#### Dataset - TraficoAereoPasajeros.csv\n",
    "\n",
    "    El set de datos contiene información sobre el tráfico aéreo de pasajeros por aerolinea, incluyendo los aeropuertos y regiones."
   ]
  },
  {
   "cell_type": "code",
   "execution_count": 8,
   "metadata": {},
   "outputs": [],
   "source": [
    "Trafico = pd.read_csv('./Datasets/TraficoAereoPasajeros.csv')"
   ]
  },
  {
   "cell_type": "code",
   "execution_count": null,
   "metadata": {},
   "outputs": [],
   "source": [
    "Trafico"
   ]
  },
  {
   "cell_type": "code",
   "execution_count": null,
   "metadata": {},
   "outputs": [],
   "source": [
    "print(\"El dataset contiene {} filas y {} columnas\".format(*Trafico.shape))\n",
    "\n",
    "print(\"La cantidad de valores faltantes por columna es:\\n{}\".format(Trafico.isna().sum()))"
   ]
  },
  {
   "attachments": {},
   "cell_type": "markdown",
   "metadata": {},
   "source": [
    "Con el set de datos podemos trabajar para poder armar un modelo que pueda predecir la cantidad de pasajeros que viajaran durante los proximos meses."
   ]
  },
  {
   "attachments": {},
   "cell_type": "markdown",
   "metadata": {},
   "source": [
    "#### Dataset - VinoEspañol.csv\n",
    "\n",
    "    Los datos mostrados en el dataset refieren a vinos españoles. Se describe popularidad y metricas sobre la calidad del mismo."
   ]
  },
  {
   "cell_type": "code",
   "execution_count": 9,
   "metadata": {},
   "outputs": [],
   "source": [
    "España = pd.read_csv('./Datasets/VinoEspañol.csv')"
   ]
  },
  {
   "cell_type": "code",
   "execution_count": null,
   "metadata": {},
   "outputs": [],
   "source": [
    "España"
   ]
  },
  {
   "cell_type": "code",
   "execution_count": null,
   "metadata": {},
   "outputs": [],
   "source": [
    "print(\"El dataset contiene {} filas y {} columnas\".format(*España.shape))\n",
    "\n",
    "print(\"La cantidad de valores faltantes por columna es:\\n{}\".format(España.isna().sum()))"
   ]
  },
  {
   "attachments": {},
   "cell_type": "markdown",
   "metadata": {},
   "source": [
    "Con el análisis de la información a partir de la base de datos podremos predecir el mejor vino de España."
   ]
  }
 ],
 "metadata": {
  "kernelspec": {
   "display_name": "Python 3",
   "language": "python",
   "name": "python3"
  },
  "language_info": {
   "codemirror_mode": {
    "name": "ipython",
    "version": 3
   },
   "file_extension": ".py",
   "mimetype": "text/x-python",
   "name": "python",
   "nbconvert_exporter": "python",
   "pygments_lexer": "ipython3",
   "version": "3.10.9"
  },
  "orig_nbformat": 4,
  "vscode": {
   "interpreter": {
    "hash": "e1cf31f014a73b938e0e9c287d22cfcedd6b8087bbeae8633e5062f424295694"
   }
  }
 },
 "nbformat": 4,
 "nbformat_minor": 2
}
