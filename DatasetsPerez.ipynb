{
 "cells": [
  {
   "attachments": {},
   "cell_type": "markdown",
   "metadata": {},
   "source": [
    "### Importación de la librería Pandas."
   ]
  },
  {
   "cell_type": "code",
   "execution_count": 2,
   "metadata": {},
   "outputs": [],
   "source": [
    "import pandas as pd"
   ]
  },
  {
   "attachments": {},
   "cell_type": "markdown",
   "metadata": {},
   "source": [
    "### Importación de Datasets"
   ]
  },
  {
   "attachments": {},
   "cell_type": "markdown",
   "metadata": {},
   "source": [
    "##### Dataset - CalidadVino.csv\n",
    "\n",
    "    Este Dataset detalla la calidad de la variante roja del vino \"Vinho Verde\" de Portugal."
   ]
  },
  {
   "cell_type": "code",
   "execution_count": 3,
   "metadata": {},
   "outputs": [],
   "source": [
    "Vino = pd.read_csv('./Datasets/CalidadVino.csv')"
   ]
  },
  {
   "cell_type": "code",
   "execution_count": 4,
   "metadata": {},
   "outputs": [
    {
     "name": "stdout",
     "output_type": "stream",
     "text": [
      "El dataset contiene 1599 filas y 12 columnas\n",
      "La cantidad de valores faltantes por columna es:\n",
      "fixed acidity           0\n",
      "volatile acidity        0\n",
      "citric acid             0\n",
      "residual sugar          0\n",
      "chlorides               0\n",
      "free sulfur dioxide     0\n",
      "total sulfur dioxide    0\n",
      "density                 0\n",
      "pH                      0\n",
      "sulphates               0\n",
      "alcohol                 0\n",
      "quality                 0\n",
      "dtype: int64\n"
     ]
    }
   ],
   "source": [
    "print(\"El dataset contiene {} filas y {} columnas\".format(*Vino.shape))\n",
    "\n",
    "print(\"La cantidad de valores faltantes por columna es:\\n{}\".format(Vino.isna().sum()))"
   ]
  },
  {
   "attachments": {},
   "cell_type": "markdown",
   "metadata": {},
   "source": [
    "#### Dataset - EquipoAmbientalBarcelona.csv\n",
    "\n",
    "    Este Dataset muestra información relacionada al equipamiento para mediciones ambientales en la ciudad de Barcelona."
   ]
  },
  {
   "cell_type": "code",
   "execution_count": 5,
   "metadata": {},
   "outputs": [],
   "source": [
    "Barcelona = pd.read_csv('./Datasets/EquipoAmbBna.csv', encoding=\"utf-16\")"
   ]
  },
  {
   "cell_type": "code",
   "execution_count": 6,
   "metadata": {},
   "outputs": [
    {
     "name": "stdout",
     "output_type": "stream",
     "text": [
      "El dataset contiene 611 filas y 36 columnas\n",
      "La cantidad de valores faltantes por columna es:\n",
      "register_id                        0\n",
      "name                               0\n",
      "institution_id                   609\n",
      "institution_name                 609\n",
      "created                            0\n",
      "modified                           0\n",
      "addresses_roadtype_id            611\n",
      "addresses_roadtype_name          611\n",
      "addresses_road_id                  0\n",
      "addresses_road_name                0\n",
      "addresses_start_street_number      2\n",
      "addresses_end_street_number      485\n",
      "addresses_neighborhood_id          0\n",
      "addresses_neighborhood_name        0\n",
      "addresses_district_id              0\n",
      "addresses_district_name            0\n",
      "addresses_zip_code                 0\n",
      "addresses_town                     0\n",
      "addresses_main_address             0\n",
      "addresses_type                   611\n",
      "values_id                        566\n",
      "values_attribute_id              566\n",
      "values_category                  566\n",
      "values_attribute_name            566\n",
      "values_value                     566\n",
      "values_outstanding               566\n",
      "values_description               609\n",
      "secondary_filters_id               0\n",
      "secondary_filters_name             0\n",
      "secondary_filters_fullpath         0\n",
      "secondary_filters_tree             0\n",
      "secondary_filters_asia_id          0\n",
      "geo_epgs_25831_x                   0\n",
      "geo_epgs_25831_y                   0\n",
      "geo_epgs_4326_x                    0\n",
      "geo_epgs_4326_y                    0\n",
      "dtype: int64\n"
     ]
    }
   ],
   "source": [
    "print(\"El dataset contiene {} filas y {} columnas\".format(*Barcelona.shape))\n",
    "\n",
    "print(\"La cantidad de valores faltantes por columna es:\\n{}\".format(Barcelona.isna().sum()))"
   ]
  },
  {
   "attachments": {},
   "cell_type": "markdown",
   "metadata": {},
   "source": [
    "#### Dataset - Tenis2022.xlsx\n",
    "\n",
    "    El dataset presentado muestra la información obtenida del circuito anual de Tenis en el año 2022."
   ]
  },
  {
   "cell_type": "code",
   "execution_count": 7,
   "metadata": {},
   "outputs": [],
   "source": [
    "Tenis = pd.read_excel('./Datasets/Tenis2022.xlsx')"
   ]
  },
  {
   "cell_type": "code",
   "execution_count": 10,
   "metadata": {},
   "outputs": [
    {
     "name": "stdout",
     "output_type": "stream",
     "text": [
      "El dataset contiene 2632 filas y 36 columnas\n",
      "La cantidad de valores faltantes por columna es:\n",
      "ATP              0\n",
      "Location         0\n",
      "Tournament       0\n",
      "Date             0\n",
      "Series           0\n",
      "Court            0\n",
      "Surface          0\n",
      "Round            0\n",
      "Best of         15\n",
      "Winner           0\n",
      "Loser            0\n",
      "WRank            0\n",
      "LRank            2\n",
      "WPts             0\n",
      "LPts             2\n",
      "W1              17\n",
      "L1              17\n",
      "W2              32\n",
      "L2              32\n",
      "W3            1368\n",
      "L3            1368\n",
      "W4            2364\n",
      "L4            2364\n",
      "W5            2533\n",
      "L5            2533\n",
      "Wsets           17\n",
      "Lsets           17\n",
      "Comment          0\n",
      "B365W           10\n",
      "B365L           10\n",
      "PSW             15\n",
      "PSL             15\n",
      "MaxW             4\n",
      "MaxL             4\n",
      "AvgW             4\n",
      "AvgL             4\n",
      "dtype: int64\n"
     ]
    }
   ],
   "source": [
    "print(\"El dataset contiene {} filas y {} columnas\".format(*Tenis.shape))\n",
    "\n",
    "print(\"La cantidad de valores faltantes por columna es:\\n{}\".format(Tenis.isna().sum()))"
   ]
  },
  {
   "attachments": {},
   "cell_type": "markdown",
   "metadata": {},
   "source": [
    "#### Dataset - TraficoAereoPasajeros.csv\n",
    "\n",
    "    El set de datos contiene información sobre el tráfico aéreo de pasajeros por aerolinea, incluyendo los aeropuertos y regiones."
   ]
  },
  {
   "cell_type": "code",
   "execution_count": 8,
   "metadata": {},
   "outputs": [],
   "source": [
    "Trafico = pd.read_csv('./Datasets/TraficoAereoPasajeros.csv')"
   ]
  },
  {
   "cell_type": "code",
   "execution_count": 11,
   "metadata": {},
   "outputs": [
    {
     "name": "stdout",
     "output_type": "stream",
     "text": [
      "El dataset contiene 15007 filas y 17 columnas\n",
      "La cantidad de valores faltantes por columna es:\n",
      "index                           0\n",
      "Activity Period                 0\n",
      "Operating Airline               0\n",
      "Operating Airline IATA Code    54\n",
      "Published Airline               0\n",
      "Published Airline IATA Code    54\n",
      "GEO Summary                     0\n",
      "GEO Region                      0\n",
      "Activity Type Code              0\n",
      "Price Category Code             0\n",
      "Terminal                        0\n",
      "Boarding Area                   0\n",
      "Passenger Count                 0\n",
      "Adjusted Activity Type Code     0\n",
      "Adjusted Passenger Count        0\n",
      "Year                            0\n",
      "Month                           0\n",
      "dtype: int64\n"
     ]
    }
   ],
   "source": [
    "print(\"El dataset contiene {} filas y {} columnas\".format(*Trafico.shape))\n",
    "\n",
    "print(\"La cantidad de valores faltantes por columna es:\\n{}\".format(Trafico.isna().sum()))"
   ]
  },
  {
   "attachments": {},
   "cell_type": "markdown",
   "metadata": {},
   "source": [
    "#### Dataset - VinoEspañol.csv\n",
    "\n",
    "    Los datos mostrados en el dataset refieren a vinos españoles. Se describe popularidad y metricas sobre la calidad del mismo."
   ]
  },
  {
   "cell_type": "code",
   "execution_count": 9,
   "metadata": {},
   "outputs": [],
   "source": [
    "España = pd.read_csv('./Datasets/VinoEspañol.csv')"
   ]
  },
  {
   "cell_type": "code",
   "execution_count": 12,
   "metadata": {},
   "outputs": [
    {
     "name": "stdout",
     "output_type": "stream",
     "text": [
      "El dataset contiene 7500 filas y 11 columnas\n",
      "La cantidad de valores faltantes por columna es:\n",
      "winery            0\n",
      "wine              0\n",
      "year              2\n",
      "rating            0\n",
      "num_reviews       0\n",
      "country           0\n",
      "region            0\n",
      "price             0\n",
      "type            545\n",
      "body           1169\n",
      "acidity        1169\n",
      "dtype: int64\n"
     ]
    }
   ],
   "source": [
    "print(\"El dataset contiene {} filas y {} columnas\".format(*España.shape))\n",
    "\n",
    "print(\"La cantidad de valores faltantes por columna es:\\n{}\".format(España.isna().sum()))"
   ]
  }
 ],
 "metadata": {
  "kernelspec": {
   "display_name": "Python 3",
   "language": "python",
   "name": "python3"
  },
  "language_info": {
   "codemirror_mode": {
    "name": "ipython",
    "version": 3
   },
   "file_extension": ".py",
   "mimetype": "text/x-python",
   "name": "python",
   "nbconvert_exporter": "python",
   "pygments_lexer": "ipython3",
   "version": "3.10.9"
  },
  "orig_nbformat": 4,
  "vscode": {
   "interpreter": {
    "hash": "e1cf31f014a73b938e0e9c287d22cfcedd6b8087bbeae8633e5062f424295694"
   }
  }
 },
 "nbformat": 4,
 "nbformat_minor": 2
}
