{
 "cells": [
  {
   "attachments": {},
   "cell_type": "markdown",
   "metadata": {},
   "source": [
    "# Estructurando un Proyecto de DS (Parte II)"
   ]
  },
  {
   "attachments": {},
   "cell_type": "markdown",
   "metadata": {},
   "source": [
    "### Abstract"
   ]
  },
  {
   "attachments": {},
   "cell_type": "markdown",
   "metadata": {},
   "source": [
    "El conjunto de datos que se analiza en este estudio se centra en la reserva de hoteles y la probabilidad de que estas reservas sean canceladas. El dataset contiene información detallada sobre las reservas realizadas en distintos hoteles, incluyendo información sobre el tipo de habitación reservada, la duración de la estancia, la anticipación de la reserva, la fecha de llegada, la cantidad de personas y dias que reservan, entre otros datos."
   ]
  },
  {
   "attachments": {},
   "cell_type": "markdown",
   "metadata": {},
   "source": [
    "- ¿Afecta el tipo de mercado el estado final de la reserva?\n",
    "\n",
    "- ¿Existe relación entre el estado de la reserva y el tiempo de llegada al hotel?\n",
    "\n",
    "- ¿Hay alguna época en particular en la que se realizan mayor cantidad de cancelaciones?"
   ]
  },
  {
   "attachments": {},
   "cell_type": "markdown",
   "metadata": {},
   "source": [
    "### Contexto y Problemática Comercial"
   ]
  },
  {
   "attachments": {},
   "cell_type": "markdown",
   "metadata": {},
   "source": [
    "#### Contexto Comercial y Analítico"
   ]
  },
  {
   "attachments": {},
   "cell_type": "markdown",
   "metadata": {},
   "source": [
    "El sector turístico es uno de los más importantes y dinámicos de la economía global, y los hoteles son una parte fundamental de esta industria. Los hoteles compiten en un mercado altamente competitivo, por lo que lograr realizar predicciones sobre la cancelación de las reservas realizadas pueden ayudarlos a mantenerse competitivos.\n",
    "\n",
    "Los diferentes métodos de reserva que existen (y principalmente la reserva online) afectaron fuertemente el comportamiento de los clientes y sus posibilidades de reservas, muchas de las cuales luego son canceladas o no asistidas. Generalmente, el ofrecimiento de cancelaciones gratuitas o a un precio moderado/bajo ayuda a que los huespedes se vean beneficiados, pero conlleva a que los hoteles pierdan rentabilidad ya que para ellos esta metodología de cancelaciones es costosa."
   ]
  },
  {
   "attachments": {},
   "cell_type": "markdown",
   "metadata": {},
   "source": [
    "#### Problemática"
   ]
  },
  {
   "attachments": {},
   "cell_type": "markdown",
   "metadata": {},
   "source": [
    "\n",
    "La cancelación de reservas es un problema común en la industria hotelera y puede afectar significativamente la rentabilidad del hotel. Estas cancelaciones pueden generar costos adicionales para el hotel, como la pérdida de ingresos por habitaciones no vendidas, gastos de cancelación y posibles daños a la reputación del hotel si el cliente queda insatisfecho.\n",
    "\n",
    "Por lo tanto, es crucial para los hoteles gestionar eficazmente las cancelaciones de reservas para minimizar su impacto en la rentabilidad y la satisfacción del cliente.\n",
    "\n",
    "Mediante este dataset se busca generar un modelo que ayude a la industria hotelera a gestionar las cancelaciones de las reservas. El dataset tiene mas de 36000 reservas analizadas y diferenciadas en canceladas y no canceladas, ademas de caracteristicas adicionales de las personas, la estadia y las reservas."
   ]
  },
  {
   "attachments": {},
   "cell_type": "markdown",
   "metadata": {},
   "source": [
    "### Objetivo"
   ]
  },
  {
   "attachments": {},
   "cell_type": "markdown",
   "metadata": {},
   "source": [
    "El objetivo principal de este estudio es analizar la probabilidad de que las reservas de hotel sean canceladas y determinar qué factores pueden influir en esta decisión. Para lograr este objetivo, se llevaran a cabo varios análisis estadísticos y van a utilizarse diferentes técnicas de modelado predictivo que nos permitira generar un modelo de clasificación para predecir las posibilidades de que esto ocurra."
   ]
  },
  {
   "attachments": {},
   "cell_type": "markdown",
   "metadata": {},
   "source": [
    "### Importación de Librerias"
   ]
  },
  {
   "cell_type": "code",
   "execution_count": null,
   "metadata": {},
   "outputs": [],
   "source": [
    "#Numpy\n",
    "import numpy as np\n",
    "from numpy import median\n",
    "# Pandas\n",
    "import pandas as pd\n",
    "# Matplotlib\n",
    "import matplotlib.pyplot as plt\n",
    "# Seaborn\n",
    "import seaborn as sns\n",
    "# Sklearn\n",
    "from sklearn.model_selection import train_test_split\n",
    "from sklearn import metrics"
   ]
  },
  {
   "attachments": {},
   "cell_type": "markdown",
   "metadata": {},
   "source": [
    "### Dataset"
   ]
  },
  {
   "attachments": {},
   "cell_type": "markdown",
   "metadata": {},
   "source": [
    "#### Importación y Lectura"
   ]
  },
  {
   "attachments": {},
   "cell_type": "markdown",
   "metadata": {},
   "source": [
    "#### Visualización"
   ]
  },
  {
   "cell_type": "code",
   "execution_count": null,
   "metadata": {},
   "outputs": [],
   "source": [
    "pd.set_option('display.max_columns', 500)"
   ]
  },
  {
   "attachments": {},
   "cell_type": "markdown",
   "metadata": {},
   "source": [
    "Link al dataset: https://www.kaggle.com/datasets/ahsan81/hotel-reservations-classification-dataset"
   ]
  },
  {
   "cell_type": "code",
   "execution_count": null,
   "metadata": {},
   "outputs": [],
   "source": [
    "hotel_orig = pd.read_csv('./ReservaHotel.csv')"
   ]
  },
  {
   "cell_type": "code",
   "execution_count": null,
   "metadata": {},
   "outputs": [],
   "source": [
    "hotel_orig.head()"
   ]
  },
  {
   "cell_type": "code",
   "execution_count": null,
   "metadata": {},
   "outputs": [],
   "source": [
    "hotel_orig.shape"
   ]
  },
  {
   "attachments": {},
   "cell_type": "markdown",
   "metadata": {},
   "source": [
    "### Data Wrangling"
   ]
  },
  {
   "cell_type": "code",
   "execution_count": null,
   "metadata": {},
   "outputs": [],
   "source": [
    "hotel_orig.info()"
   ]
  },
  {
   "attachments": {},
   "cell_type": "markdown",
   "metadata": {},
   "source": [
    "Las variables del dataset son:\n",
    "- Booking_ID: ID de reserva.\n",
    "- no_of_adults: número de adultos.\n",
    "- no_of_children: número de niños.\n",
    "- no_of_weekend_nights: número de noches de fin de semana reservado.\n",
    "- no_of_week_nights: número de noches de dias de semana reservado.\n",
    "- type_of_meal_plan: plan de alimentación elegido.\n",
    "- required_car_parking_space: si requiere estacionamiento o no.\n",
    "- room_type_reserved: tipo de habitación reservada.\n",
    "- lead_time: cantidad de dias en que hace la reservación.\n",
    "- arrival_year: año de llegada al hotel.\n",
    "- arrival_month: mes de llegada al hotel.\n",
    "- arrival_date: dia de llegada al hotel.\n",
    "- market_segment_type: lugar desde el que se realizo la reserva.\n",
    "- repeated_guest: si la persona que reserva ya habia reservado con anterioridad.\n",
    "- no_of_previous_cancellations: cantidad de cancelaciones previas.\n",
    "- no_of_previous_bookings_not_canceled: cantidad de reservas previas no canceladas.\n",
    "- avg_price_per_room: precio promedio por habitación.\n",
    "- no_of_special_requests: cantidad de pedidos especiales.\n",
    "- booking_status: estado final de la reserva."
   ]
  },
  {
   "attachments": {},
   "cell_type": "markdown",
   "metadata": {},
   "source": [
    "#### Datos faltantes"
   ]
  },
  {
   "cell_type": "code",
   "execution_count": null,
   "metadata": {},
   "outputs": [],
   "source": [
    "hotel_orig.isna().sum()"
   ]
  },
  {
   "attachments": {},
   "cell_type": "markdown",
   "metadata": {},
   "source": [
    "El dataset no posee datos faltantes."
   ]
  },
  {
   "attachments": {},
   "cell_type": "markdown",
   "metadata": {},
   "source": [
    "#### Primera Limpieza de Variables"
   ]
  },
  {
   "attachments": {},
   "cell_type": "markdown",
   "metadata": {},
   "source": [
    "Inicialmente la unica variable a eliminar sera el ID de reserva ya que es un dato irrelevante para el análisis.\n",
    "Se generara un dataframe nuevo para mantener el original intacto."
   ]
  },
  {
   "cell_type": "code",
   "execution_count": null,
   "metadata": {},
   "outputs": [],
   "source": [
    "hotel = hotel_orig.drop(columns=['Booking_ID'], axis=1)"
   ]
  },
  {
   "cell_type": "code",
   "execution_count": null,
   "metadata": {},
   "outputs": [],
   "source": [
    "hotel.head()"
   ]
  },
  {
   "cell_type": "code",
   "execution_count": null,
   "metadata": {},
   "outputs": [],
   "source": [
    "hotel.describe(include=\"all\")"
   ]
  },
  {
   "attachments": {},
   "cell_type": "markdown",
   "metadata": {},
   "source": [
    "#### Creación de Variable datetime (\"Date\")"
   ]
  },
  {
   "cell_type": "code",
   "execution_count": null,
   "metadata": {},
   "outputs": [],
   "source": [
    "hotel['Date'] = pd.to_datetime({'year':hotel['arrival_year'],\n",
    "                              'month':hotel['arrival_month'],    \n",
    "                              'day':hotel['arrival_date']\n",
    "                              })"
   ]
  },
  {
   "cell_type": "code",
   "execution_count": null,
   "metadata": {},
   "outputs": [],
   "source": [
    "hotel.head()"
   ]
  },
  {
   "cell_type": "code",
   "execution_count": null,
   "metadata": {},
   "outputs": [],
   "source": [
    "hotel.info()"
   ]
  },
  {
   "attachments": {},
   "cell_type": "markdown",
   "metadata": {},
   "source": [
    "Para conocer el período de reservas que abarca el dataset realizamos lo siguiente:"
   ]
  },
  {
   "cell_type": "code",
   "execution_count": null,
   "metadata": {},
   "outputs": [],
   "source": [
    "max_fecha = hotel['Date'].max()\n",
    "min_fecha = hotel['Date'].min()\n",
    "print('Las reservas analizadas en el dataset van desde {} a {}'.format(min_fecha, max_fecha))"
   ]
  },
  {
   "attachments": {},
   "cell_type": "markdown",
   "metadata": {},
   "source": [
    "#### Nuevas Variables"
   ]
  },
  {
   "attachments": {},
   "cell_type": "markdown",
   "metadata": {},
   "source": [
    "Se crearan nuevas variables a partir de la unificación de varias columnas."
   ]
  },
  {
   "cell_type": "code",
   "execution_count": null,
   "metadata": {},
   "outputs": [],
   "source": [
    "# unifico las variables de adults y children para ver el total de personas.\n",
    "hotel['total_people'] = hotel['no_of_adults'] + hotel['no_of_children']\n",
    "\n",
    "# unifico el numero de nights para ver su total\n",
    "hotel['total_nights'] = hotel['no_of_weekend_nights'] + hotel['no_of_week_nights']\n",
    "\n",
    "# unifico el numero de reservas anteriores\n",
    "hotel['previous_booking'] = hotel['no_of_previous_bookings_not_canceled'] + hotel['no_of_previous_cancellations']"
   ]
  },
  {
   "cell_type": "code",
   "execution_count": null,
   "metadata": {},
   "outputs": [],
   "source": [
    "hotel.head()"
   ]
  },
  {
   "cell_type": "code",
   "execution_count": null,
   "metadata": {},
   "outputs": [],
   "source": [
    "hotel.shape"
   ]
  },
  {
   "attachments": {},
   "cell_type": "markdown",
   "metadata": {},
   "source": [
    "#### Transformación de variables categóricas a numéricas"
   ]
  },
  {
   "cell_type": "code",
   "execution_count": null,
   "metadata": {},
   "outputs": [],
   "source": [
    "hotel.head()"
   ]
  },
  {
   "cell_type": "code",
   "execution_count": null,
   "metadata": {},
   "outputs": [],
   "source": [
    "hotel.type_of_meal_plan.unique()"
   ]
  },
  {
   "cell_type": "code",
   "execution_count": null,
   "metadata": {},
   "outputs": [],
   "source": [
    "map_meal = {'Not Selected': 0, 'Meal Plan 1': 1, 'Meal Plan 2': 2, 'Meal Plan 3': 3}\n",
    "hotel[\"type_of_meal_plan\"] = hotel[\"type_of_meal_plan\"].replace(map_meal)\n",
    "hotel[\"type_of_meal_plan\"]  "
   ]
  },
  {
   "cell_type": "code",
   "execution_count": null,
   "metadata": {},
   "outputs": [],
   "source": [
    "hotel.room_type_reserved.unique()"
   ]
  },
  {
   "cell_type": "code",
   "execution_count": null,
   "metadata": {},
   "outputs": [],
   "source": [
    "map_room = {'Room_Type 1': 1, 'Room_Type 4': 4, 'Room_Type 2': 2, 'Room_Type 6': 6,\n",
    "       'Room_Type 5': 5, 'Room_Type 7': 7, 'Room_Type 3': 3}\n",
    "hotel[\"room_type_reserved\"] = hotel[\"room_type_reserved\"].replace(map_room)\n",
    "hotel[\"room_type_reserved\"]"
   ]
  },
  {
   "cell_type": "code",
   "execution_count": null,
   "metadata": {},
   "outputs": [],
   "source": [
    "hotel.booking_status.unique()"
   ]
  },
  {
   "cell_type": "code",
   "execution_count": null,
   "metadata": {},
   "outputs": [],
   "source": [
    "map_booking = {'Not_Canceled': 0, 'Canceled': 1}\n",
    "hotel[\"booking_status\"] = hotel[\"booking_status\"].replace(map_booking)\n",
    "hotel[\"booking_status\"]"
   ]
  },
  {
   "cell_type": "code",
   "execution_count": null,
   "metadata": {},
   "outputs": [],
   "source": [
    "hotel_segment = pd.get_dummies(hotel[\"market_segment_type\"], prefix=\"market\")\n",
    "hotel_segment.head()"
   ]
  },
  {
   "cell_type": "code",
   "execution_count": null,
   "metadata": {},
   "outputs": [],
   "source": [
    "hotel = hotel.drop([\"market_segment_type\"], axis = 1)\n",
    "hotel.head()"
   ]
  },
  {
   "cell_type": "code",
   "execution_count": null,
   "metadata": {},
   "outputs": [],
   "source": [
    "hotel_concat = pd.concat([hotel, hotel_segment], axis = 1)\n",
    "hotel = hotel_concat\n",
    "hotel.head()"
   ]
  },
  {
   "cell_type": "code",
   "execution_count": null,
   "metadata": {},
   "outputs": [],
   "source": [
    "hotel.shape"
   ]
  },
  {
   "cell_type": "code",
   "execution_count": null,
   "metadata": {},
   "outputs": [],
   "source": [
    "hotel.info()"
   ]
  },
  {
   "attachments": {},
   "cell_type": "markdown",
   "metadata": {},
   "source": [
    "#### Cambio de tipos de variables"
   ]
  },
  {
   "cell_type": "code",
   "execution_count": null,
   "metadata": {},
   "outputs": [],
   "source": [
    "hotel.booking_status = hotel.booking_status.astype('object')"
   ]
  },
  {
   "cell_type": "code",
   "execution_count": null,
   "metadata": {},
   "outputs": [],
   "source": [
    "hotel.market_Aviation = hotel.market_Aviation.astype('object')\n",
    "hotel.market_Complementary = hotel.market_Complementary.astype('object')\n",
    "hotel.market_Corporate = hotel.market_Corporate.astype('object')\n",
    "hotel.market_Offline = hotel.market_Offline.astype('object')\n",
    "hotel.market_Online = hotel.market_Online.astype('object')"
   ]
  },
  {
   "cell_type": "code",
   "execution_count": null,
   "metadata": {},
   "outputs": [],
   "source": [
    "hotel.repeated_guest = hotel.repeated_guest.astype('object')\n",
    "hotel.type_of_meal_plan = hotel.type_of_meal_plan.astype('object')\n",
    "hotel.room_type_reserved = hotel.room_type_reserved.astype('object')\n",
    "hotel.required_car_parking_space = hotel.required_car_parking_space.astype('object')"
   ]
  },
  {
   "cell_type": "code",
   "execution_count": null,
   "metadata": {},
   "outputs": [],
   "source": [
    "hotel.info()"
   ]
  },
  {
   "attachments": {},
   "cell_type": "markdown",
   "metadata": {},
   "source": [
    "#### Gráficos descriptivos"
   ]
  },
  {
   "cell_type": "code",
   "execution_count": null,
   "metadata": {},
   "outputs": [],
   "source": [
    "hs = sns.countplot(data=hotel, x= \"booking_status\", palette='deep')\n",
    "hs.set_title('Cantidad de reservas según su estado')\n",
    "labels = ('No cancelada', 'Cancelada')\n",
    "hs.set_ylabel('Cantidad de resesrvas')\n",
    "hs.set_xlabel('Estado de reserva')\n",
    "hs.set_xticklabels(labels)\n",
    "plt.show()"
   ]
  },
  {
   "cell_type": "code",
   "execution_count": null,
   "metadata": {},
   "outputs": [],
   "source": [
    "hotel['booking_status'].value_counts().mul(100)/len(hotel)"
   ]
  },
  {
   "attachments": {},
   "cell_type": "markdown",
   "metadata": {},
   "source": [
    "*De acuerdo a lo observado, las reservas NO CANCELADAS alcanzan un total aproximado de 67%, mientras que las reservas CANCELADAS son de alrededor del 33%.*"
   ]
  },
  {
   "cell_type": "code",
   "execution_count": null,
   "metadata": {},
   "outputs": [],
   "source": [
    "hl = sns.boxplot(x='booking_status', y='lead_time', data = hotel)\n",
    "sns.set(font_scale=1)\n",
    "hl.set_ylabel('Tiempo de espera')\n",
    "hl.set_xlabel('Estado de reserva')\n",
    "hl.set_xticklabels(labels)\n",
    "plt.title(\"Lead Time vs. Status\")"
   ]
  },
  {
   "cell_type": "code",
   "execution_count": null,
   "metadata": {},
   "outputs": [],
   "source": [
    "hotel['lead_time'].describe()"
   ]
  },
  {
   "attachments": {},
   "cell_type": "markdown",
   "metadata": {},
   "source": [
    "*En función de lo que visualizamos, podemos determinar que a mayor cantidad de dias de espera para el arribo al hotel, mayor es la tasa de cancelaciones, llegando incluso a visualizar \"outliers\" con valores mayores a 400 dias. Sin embargo, hay reservas con tiempos de espera menores a esa cantidad que no fueron canceladas*"
   ]
  },
  {
   "attachments": {},
   "cell_type": "markdown",
   "metadata": {},
   "source": [
    "#### Revisión de tipos de variables"
   ]
  },
  {
   "cell_type": "code",
   "execution_count": null,
   "metadata": {},
   "outputs": [],
   "source": [
    "hotel.dtypes"
   ]
  },
  {
   "attachments": {},
   "cell_type": "markdown",
   "metadata": {},
   "source": [
    "Armare 2 dataframes de acuerdo al tipo de variable a analizar, uno con las variables cualitativas y otra con las variables cuantitativas."
   ]
  },
  {
   "attachments": {},
   "cell_type": "markdown",
   "metadata": {},
   "source": [
    "#### Variables Cuantitativas"
   ]
  },
  {
   "cell_type": "code",
   "execution_count": null,
   "metadata": {},
   "outputs": [],
   "source": [
    "hotel_cuant = hotel.select_dtypes(include = np.number)\n",
    "hotel_cuant.info()"
   ]
  },
  {
   "cell_type": "code",
   "execution_count": null,
   "metadata": {},
   "outputs": [],
   "source": [
    "hotel_cuant.describe()"
   ]
  },
  {
   "cell_type": "code",
   "execution_count": null,
   "metadata": {},
   "outputs": [],
   "source": [
    "for i in hotel_cuant:\n",
    "    plt.figure(figsize=(18, 6))\n",
    "    if hotel_cuant[i].nunique() <= 10:\n",
    "        sns.countplot(x=i, data=hotel_cuant, hue=hotel[\"booking_status\"])\n",
    "    else:\n",
    "        sns.histplot(x=i, data=hotel_cuant, hue=hotel[\"booking_status\"])\n",
    "    \n",
    "    sns.set(font_scale=1)\n",
    "    plt.show()\n"
   ]
  },
  {
   "attachments": {},
   "cell_type": "markdown",
   "metadata": {},
   "source": [
    "Tomaremos la variable \"Arrival_month\" para hacer un análisis específico de la misma."
   ]
  },
  {
   "cell_type": "code",
   "execution_count": null,
   "metadata": {},
   "outputs": [],
   "source": [
    "hotel = hotel.sort_values([\"arrival_month\"])\n",
    "hotel_cuant['arrival_month'].unique()"
   ]
  },
  {
   "cell_type": "code",
   "execution_count": null,
   "metadata": {},
   "outputs": [],
   "source": [
    "map_month = {10: \"Octubre\", 11: \"Noviembre\",  2: \"Febrero\",  5: \"Mayo\",  4: \"Abril\",  9: \"Septiembre\", 12: \"Diciembre\",  7: \"Julio\",  6: \"Junio\",  8: \"Agosto\",  3: \"Marzo\",  1: \"Enero\"}\n",
    "hotel[\"arrival_month\"] = hotel[\"arrival_month\"].replace(map_month)\n",
    "hotel[\"arrival_month\"].unique()"
   ]
  },
  {
   "cell_type": "code",
   "execution_count": null,
   "metadata": {},
   "outputs": [],
   "source": [
    "plt.figure(figsize=(15,8))\n",
    "sns.set_context(\"poster\",font_scale = .56)\n",
    "sns.countplot(x = hotel['arrival_month'],data = hotel , hue='booking_status')\n",
    "plt.show()"
   ]
  },
  {
   "attachments": {},
   "cell_type": "markdown",
   "metadata": {},
   "source": [
    "* A partir del mes de Agosto y hasta el mes de Diciembre las reservas crecen significativamente, coincidentemente con las vacaciones de invierno.\n",
    "* Durante los meses de Diciembre, Enero y Febrero las reservas canceladas son minimas."
   ]
  },
  {
   "attachments": {},
   "cell_type": "markdown",
   "metadata": {},
   "source": [
    "#### Variables Cualitativas"
   ]
  },
  {
   "cell_type": "code",
   "execution_count": null,
   "metadata": {},
   "outputs": [],
   "source": [
    "hotel_cuali = hotel.select_dtypes(include= object)\n",
    "hotel_cuali.info()"
   ]
  },
  {
   "cell_type": "code",
   "execution_count": null,
   "metadata": {},
   "outputs": [],
   "source": [
    "for col in hotel_cuali.columns:\n",
    "    print(hotel_cuali[col].unique())\n",
    "    print(hotel_cuali[col].nunique())"
   ]
  },
  {
   "cell_type": "code",
   "execution_count": null,
   "metadata": {},
   "outputs": [],
   "source": [
    "for i in hotel_cuali:\n",
    "    plt.figure(figsize=(18, 6))\n",
    "    sns.countplot(x =i, data = hotel_cuali, palette = 'bright', hue = hotel[\"booking_status\"])\n",
    "    sns.set(font_scale = 1)\n",
    "    plt.show()  \n"
   ]
  },
  {
   "cell_type": "code",
   "execution_count": null,
   "metadata": {},
   "outputs": [],
   "source": [
    "ht_meal = pd.crosstab(hotel_cuali.booking_status, hotel_cuali.type_of_meal_plan, normalize='columns')\n",
    "ht_meal"
   ]
  },
  {
   "cell_type": "code",
   "execution_count": null,
   "metadata": {},
   "outputs": [],
   "source": [
    "ht_meal.plot(kind='bar') \n",
    "plt.grid(color = 'w')\n",
    "plt.xlabel ('Estado de la reserva')\n",
    "plt.ylabel ('Frecuencia relativa')\n",
    "plt.show()"
   ]
  },
  {
   "cell_type": "code",
   "execution_count": null,
   "metadata": {},
   "outputs": [],
   "source": [
    "ht_room = pd.crosstab(hotel_cuali.booking_status, hotel_cuali.room_type_reserved, normalize='columns')\n",
    "ht_room"
   ]
  },
  {
   "cell_type": "code",
   "execution_count": null,
   "metadata": {},
   "outputs": [],
   "source": [
    "ht_room.plot(kind='bar') \n",
    "plt.grid(color = 'w')\n",
    "plt.xlabel ('Estado de la reserva')\n",
    "plt.ylabel ('Frecuencia relativa')\n",
    "plt.show()"
   ]
  },
  {
   "cell_type": "code",
   "execution_count": null,
   "metadata": {},
   "outputs": [],
   "source": [
    "htcancel = hotel[\"booking_status\"]\n",
    "htcancel"
   ]
  },
  {
   "cell_type": "code",
   "execution_count": null,
   "metadata": {},
   "outputs": [],
   "source": [
    "hotel_cuant[\"iscancel\"] = htcancel\n",
    "hotel_cuant.info() "
   ]
  },
  {
   "cell_type": "code",
   "execution_count": null,
   "metadata": {},
   "outputs": [],
   "source": [
    "#sns.pairplot(hotel_cuant, hue='iscancel')"
   ]
  },
  {
   "attachments": {},
   "cell_type": "markdown",
   "metadata": {},
   "source": [
    "#### Conclusiones"
   ]
  },
  {
   "attachments": {},
   "cell_type": "markdown",
   "metadata": {},
   "source": [
    "- Las personas que realizaron reservas previas en el mismo hotel no registran cancelaciones.\n",
    "- Se observan 2 nubes bien diferenciadas para el precio promedio de habitación (avg_price_per_room) y para el tiempo de espera (lead_time).\n",
    "- Aproximadamente el 50% de las reservas que comprenden el plan 2 de comidas (type_of_meal_plan) son canceladas.\n",
    "- Las reservas realizadas se mantienen para 9 de cada 10 en la categoria \"Corporate\" (market_segment_type)\n",
    "- Se observa que la variable target sería \"booking_status\" para ver la cancelación de las reservas.\n"
   ]
  },
  {
   "attachments": {},
   "cell_type": "markdown",
   "metadata": {},
   "source": [
    "### Exploratory Data Analysis"
   ]
  },
  {
   "attachments": {},
   "cell_type": "markdown",
   "metadata": {},
   "source": [
    "#### Análisis Univariado"
   ]
  },
  {
   "attachments": {},
   "cell_type": "markdown",
   "metadata": {},
   "source": [
    "##### Variables Cuantitativas"
   ]
  },
  {
   "cell_type": "code",
   "execution_count": null,
   "metadata": {},
   "outputs": [],
   "source": [
    "hotel_cuant.info()"
   ]
  },
  {
   "cell_type": "code",
   "execution_count": null,
   "metadata": {},
   "outputs": [],
   "source": [
    "hotel_cuant = hotel_cuant.drop(['iscancel','arrival_year','arrival_month','arrival_date'], axis=1)"
   ]
  },
  {
   "cell_type": "code",
   "execution_count": null,
   "metadata": {},
   "outputs": [],
   "source": [
    "for i in hotel_cuant:\n",
    "    hotel_cuant.boxplot(column = i)\n",
    "    plt.show()"
   ]
  },
  {
   "attachments": {},
   "cell_type": "markdown",
   "metadata": {},
   "source": [
    "Gran parte de los gráficos muestran las cajas colapsadas, observandose de esta manera muchos outliers los cuales no nos permiten obtener información relevante. De igual manera analizaremos algunas de estas variables en detalle mas abajo."
   ]
  },
  {
   "attachments": {},
   "cell_type": "markdown",
   "metadata": {},
   "source": [
    "##### Variables Cualitativas"
   ]
  },
  {
   "cell_type": "code",
   "execution_count": null,
   "metadata": {},
   "outputs": [],
   "source": [
    "hotel_cuali.info()"
   ]
  },
  {
   "cell_type": "code",
   "execution_count": null,
   "metadata": {},
   "outputs": [],
   "source": [
    "hotel_cuali = hotel_cuali.drop(['arrival_month'], axis = 1)\n",
    "hotel_cuali.info()"
   ]
  },
  {
   "cell_type": "code",
   "execution_count": null,
   "metadata": {},
   "outputs": [],
   "source": [
    "for col in hotel_cuali.columns:\n",
    "    print(hotel_cuali[col].unique())\n",
    "    print(hotel_cuali[col].nunique())  "
   ]
  },
  {
   "cell_type": "code",
   "execution_count": null,
   "metadata": {},
   "outputs": [],
   "source": [
    "for i in hotel_cuali:\n",
    "    plt.figure(figsize=(18, 6))\n",
    "    sns.countplot(x =i, data = hotel, palette = 'deep')\n",
    "    sns.set(font_scale = 1)\n",
    "    plt.show()  "
   ]
  },
  {
   "attachments": {},
   "cell_type": "markdown",
   "metadata": {},
   "source": [
    "Analizaremos con profundidad algunas variables vistas previamente."
   ]
  },
  {
   "cell_type": "code",
   "execution_count": null,
   "metadata": {},
   "outputs": [],
   "source": [
    "hotel.info()"
   ]
  },
  {
   "attachments": {},
   "cell_type": "markdown",
   "metadata": {},
   "source": [
    "##### Variable target \"booking_status\""
   ]
  },
  {
   "cell_type": "code",
   "execution_count": null,
   "metadata": {},
   "outputs": [],
   "source": [
    "hotel['booking_status'].describe()"
   ]
  },
  {
   "cell_type": "code",
   "execution_count": null,
   "metadata": {},
   "outputs": [],
   "source": [
    "labels = ('No canceló', 'Canceló')\n",
    "sns.set(font_scale=1)\n",
    "ax = sns.countplot(data=hotel, x= \"booking_status\", palette='deep')\n",
    "ax.set_xticklabels(labels)\n",
    "ax.set_xlabel('Estado de la reserva')     #label x\n",
    "ax.set_ylabel('Numero de reservas')     #label y\n",
    "ax.set_title('Cantidad de reservas canceladas y no canceladas')  #título\n",
    "plt.show()"
   ]
  },
  {
   "cell_type": "code",
   "execution_count": null,
   "metadata": {},
   "outputs": [],
   "source": [
    "hotel['booking_status'].value_counts().mul(100)/len(hotel)"
   ]
  },
  {
   "attachments": {},
   "cell_type": "markdown",
   "metadata": {},
   "source": [
    "Como vemos, nuestra variable target \"booking_status\" muestra que el 67% de las reservas no fueron canceladas, mientras que el 37% si se cancelaron."
   ]
  },
  {
   "attachments": {},
   "cell_type": "markdown",
   "metadata": {},
   "source": [
    "##### Variable \"no_of_special_requests\""
   ]
  },
  {
   "cell_type": "markdown",
   "metadata": {},
   "source": [
    "Tomaremos percentiles pequeños ya que los valores analizados son pequeños."
   ]
  },
  {
   "cell_type": "code",
   "execution_count": null,
   "metadata": {},
   "outputs": [],
   "source": [
    "hotel['no_of_special_requests'].describe()"
   ]
  },
  {
   "cell_type": "code",
   "execution_count": null,
   "metadata": {},
   "outputs": [],
   "source": [
    "sns.set(font_scale=1)\n",
    "fig, ax = plt.subplots(figsize=(15, 5))\n",
    "ax = sns.histplot(hotel.no_of_special_requests, binwidth= 1)\n",
    "ax.set_xlabel('Pedidos Especiales')   \n",
    "ax.set_title('Histograma de Pedidos Especiales')      \n",
    "plt.xticks(np.arange(0, 8, 1), rotation = 45)\n",
    "plt.show()"
   ]
  },
  {
   "attachments": {},
   "cell_type": "markdown",
   "metadata": {},
   "source": [
    "##### Variable \"type_of_meal_plan\""
   ]
  },
  {
   "cell_type": "code",
   "execution_count": null,
   "metadata": {},
   "outputs": [],
   "source": [
    "hotel.type_of_meal_plan.value_counts()"
   ]
  },
  {
   "attachments": {},
   "cell_type": "markdown",
   "metadata": {},
   "source": [
    "0 : Sin Comidas.    \n",
    "1 : Solo Desayuno.  \n",
    "2 : Media Pensión.  \n",
    "3 : Pensión Completa"
   ]
  },
  {
   "cell_type": "code",
   "execution_count": null,
   "metadata": {},
   "outputs": [],
   "source": [
    "sns.set(font_scale=1)\n",
    "ax = sns.countplot(data=hotel, x= \"type_of_meal_plan\", palette='deep', order=[0,1,2,3]) \n",
    "ax.set_xlabel('Régimen de comidas')    #label x\n",
    "ax.set_ylabel('Número de reservas')     #label y\n",
    "ax.set_title('Reservas por régimen de comidas')  #título       \n",
    "plt.show()"
   ]
  },
  {
   "cell_type": "code",
   "execution_count": null,
   "metadata": {},
   "outputs": [],
   "source": [
    "hotel_meal = hotel.groupby(['type_of_meal_plan'])['type_of_meal_plan'].count()"
   ]
  },
  {
   "cell_type": "code",
   "execution_count": null,
   "metadata": {},
   "outputs": [],
   "source": [
    "hotel_meal = hotel.type_of_meal_plan.value_counts().mul(100)/len(hotel) \n",
    "hotel_meal"
   ]
  },
  {
   "attachments": {},
   "cell_type": "markdown",
   "metadata": {},
   "source": [
    "Mediante nuestro gráfico y calculos podemos determinar que el 77% de reservas aproximadamente las realizan con un plan de comidas de solo desayuno. En contra posición, vemos que el regimen completo de comidas solo se solicita con un 0.01% de reservas. Adicionalmente tenemos un 14% para las reservas sin plan de comidas y un 9% de reservas con media pensión."
   ]
  },
  {
   "attachments": {},
   "cell_type": "markdown",
   "metadata": {},
   "source": [
    "##### Variable \"no_of_adults\""
   ]
  },
  {
   "attachments": {},
   "cell_type": "markdown",
   "metadata": {},
   "source": [
    "Tomaremos percentiles pequeños ya que los valores analizados son pequeños."
   ]
  },
  {
   "cell_type": "code",
   "execution_count": null,
   "metadata": {},
   "outputs": [],
   "source": [
    "hotel['no_of_adults'].describe(percentiles=[0.01, 0.1, .25, 0.5, 0.75, 0.8, 0.9, 0.95, 0.99])"
   ]
  },
  {
   "cell_type": "code",
   "execution_count": null,
   "metadata": {},
   "outputs": [],
   "source": [
    "sns.set(font_scale=1)\n",
    "ax = sns.boxplot(hotel.no_of_adults)\n",
    "ax.set_xlabel('Adultos') \n",
    "ax.set_title('Adultos en las reservas') \n",
    "plt.show()"
   ]
  },
  {
   "attachments": {},
   "cell_type": "markdown",
   "metadata": {},
   "source": [
    "Vemos en la estadistica que el 90% de las reservas son para 2 adultos, lo que nos lleva a ver una caja muy colapsada sobre ese valor.\n",
    "Los valores menores o mayores a 2 son vistos como outliers."
   ]
  },
  {
   "attachments": {},
   "cell_type": "markdown",
   "metadata": {},
   "source": [
    "##### Variable \"arrival_month\""
   ]
  },
  {
   "cell_type": "code",
   "execution_count": null,
   "metadata": {},
   "outputs": [],
   "source": [
    "hotel['arrival_month'].describe()"
   ]
  },
  {
   "cell_type": "code",
   "execution_count": null,
   "metadata": {},
   "outputs": [],
   "source": [
    "hotel['arrival_month'].unique()"
   ]
  },
  {
   "cell_type": "code",
   "execution_count": null,
   "metadata": {},
   "outputs": [],
   "source": [
    "fig, ax = plt.subplots(figsize=(15, 5))\n",
    "sns.set(font_scale=1)\n",
    "ax = sns.countplot(data=hotel, x= \"arrival_month\", palette= None, color = '#4c72b0')\n",
    "ax.set_xlabel('Mes')    \n",
    "ax.set_ylabel('Reservas')     \n",
    "ax.set_title('Reservas por mes')       \n",
    "plt.show()"
   ]
  },
  {
   "attachments": {},
   "cell_type": "markdown",
   "metadata": {},
   "source": [
    "A partir de la gráfica vemos como desde Enero a Abril las reservas van en aumento, para luego mantener una cierta estacionalidad hasta Agosto, mes donde se disparan las reservas en coincidencia con el verano europeo. Este crecimiento se mantiene hasta Octubre, y a partir de Noviembre las reservas caen practicamente a la mitad motivados por las festividades y la epoca invernal."
   ]
  },
  {
   "attachments": {},
   "cell_type": "markdown",
   "metadata": {},
   "source": [
    "#### Analisis Bivariado"
   ]
  },
  {
   "attachments": {},
   "cell_type": "markdown",
   "metadata": {},
   "source": [
    "##### Tasa de Cancelación"
   ]
  },
  {
   "cell_type": "code",
   "execution_count": null,
   "metadata": {},
   "outputs": [],
   "source": [
    "hotel_pivot = pd.pivot_table(hotel.reset_index(), columns=['arrival_month', 'arrival_year'], \n",
    "        index=['booking_status'],\n",
    "        values='index',\n",
    "        aggfunc=len, margins=True, margins_name='subtotales')\n",
    "hotel_pivot"
   ]
  },
  {
   "cell_type": "code",
   "execution_count": null,
   "metadata": {},
   "outputs": [],
   "source": [
    "Tasa_cancelacion = (hotel_pivot.iloc[2] - hotel_pivot.iloc[0])/hotel_pivot.iloc[2]*100\n",
    "\n",
    "hotel_cancelacion = pd.DataFrame(Tasa_cancelacion)\n",
    "hotel_cancelacion.head()"
   ]
  },
  {
   "cell_type": "code",
   "execution_count": null,
   "metadata": {},
   "outputs": [],
   "source": [
    "hotel_cancelacion = hotel_cancelacion.reset_index()        #reseteo el indice\n",
    "hotel_cancelacion.rename({0: 'Porcentaje'}, axis=1, inplace=True)   # renombro columna\n",
    "hotel_cancel=hotel_cancelacion.drop(hotel_cancelacion.index[-1])          # elimino ultima fila que tiene el subtotal (marginal)\n",
    "hotel_cancel.tail()"
   ]
  },
  {
   "cell_type": "code",
   "execution_count": null,
   "metadata": {},
   "outputs": [],
   "source": [
    "# Diccionario con los nombres de los meses y su correspondiente formato en numeros\n",
    "mes = { 'Enero':1,\n",
    "        'Febrero':2,\n",
    "        'Marzo':3,\n",
    "        'Abril':4,\n",
    "        'Mayo':5,\n",
    "        'Junio':6,\n",
    "        'Julio':7,\n",
    "        'Agosto':8,\n",
    "        'Septiembre':9,\n",
    "        'Octubre':10,\n",
    "        'Noviembre':11,\n",
    "        'Diciembre':12\n",
    "        }"
   ]
  },
  {
   "cell_type": "code",
   "execution_count": null,
   "metadata": {},
   "outputs": [],
   "source": [
    "hotel_cancel.replace({\"arrival_month\": mes}, inplace=True)                #reemplazo el mes en texto por numero (definido antes)\n",
    "hotel_cancel['Date'] = pd.to_datetime({'year':hotel_cancel['arrival_year'],              #creo columna date y la convierto a datetime\n",
    "                                    'month':hotel_cancel['arrival_month'],\n",
    "                                    'day':1\n",
    "                                    })\n",
    "hotel_cancel = hotel_cancel.drop(['arrival_month', 'arrival_year'], axis=1)\n",
    "hotel_cancel.head()"
   ]
  },
  {
   "cell_type": "code",
   "execution_count": null,
   "metadata": {},
   "outputs": [],
   "source": [
    "hotel_cancel.dtypes"
   ]
  },
  {
   "cell_type": "code",
   "execution_count": null,
   "metadata": {},
   "outputs": [],
   "source": [
    "hotel_cancel = hotel_cancel.sort_values(by='Date', ascending=True) \n",
    "hotel_cancel.head()"
   ]
  },
  {
   "cell_type": "code",
   "execution_count": null,
   "metadata": {},
   "outputs": [],
   "source": [
    "sns.set(font_scale=1)\n",
    "fig, ax = plt.subplots(figsize=(15,8))\n",
    "ax.plot(hotel_cancel['Date'], hotel_cancel['Porcentaje'], marker='o', linestyle='--')\n",
    "ax.set_title(\"Tasa de cancelacion por mes\")\n",
    "ax.set_xlabel(\"Mes\")\n",
    "ax.set_ylabel(\"Porcentaje (%)\")\n",
    "plt.show()"
   ]
  },
  {
   "cell_type": "code",
   "execution_count": null,
   "metadata": {},
   "outputs": [],
   "source": [
    "max_cancel = hotel_cancel['Porcentaje'].max()\n",
    "min_cancel = hotel_cancel['Porcentaje'].min()\n",
    "print('El porcentaje mínimo de cancelación es: ', min_cancel, ' y el máximo es ', max_cancel)"
   ]
  },
  {
   "attachments": {},
   "cell_type": "markdown",
   "metadata": {},
   "source": [
    "Se calculó la tasa de cancelación de reservas por mes y se graficó para ver variaciones en el tiempo. El porcentaje varió entre el 2% y 67%. El valor más bajo se observa durante la mitad del primer año de registro y luego la tasa de cancelación aumenta oscilando entre el 25 y 50%. Este porcentaje de cancelaciones es considerado muy elevado y termina perjudicando el negocio hotelero."
   ]
  },
  {
   "attachments": {},
   "cell_type": "markdown",
   "metadata": {},
   "source": [
    "##### Cancelación y mes de arribo"
   ]
  },
  {
   "cell_type": "code",
   "execution_count": null,
   "metadata": {},
   "outputs": [],
   "source": [
    "fig, cm = plt.subplots(figsize=(15,6)) \n",
    "sns.set(font_scale=1)\n",
    "cm = sns.countplot(x = hotel['arrival_month'], data = hotel, hue='booking_status')\n",
    "cm.set_xlabel('Mes de arribo')\n",
    "cm.set_ylabel('Numero de reservas')     \n",
    "cm.set_title('Reservas canceladas y no canceladas según el mes de arribo')    \n",
    "plt.show()"
   ]
  },
  {
   "attachments": {},
   "cell_type": "markdown",
   "metadata": {},
   "source": [
    "##### Cancelación y segmento de mercado"
   ]
  },
  {
   "cell_type": "code",
   "execution_count": null,
   "metadata": {},
   "outputs": [],
   "source": [
    "hotel_aviat = pd.crosstab(hotel.booking_status, hotel.market_Aviation, normalize='columns')\n",
    "hotel_aviat"
   ]
  },
  {
   "cell_type": "code",
   "execution_count": null,
   "metadata": {},
   "outputs": [],
   "source": [
    "hotel_aviat.plot(kind='bar', stacked=False, color =['#4c72b0', '#dd8452', '#55a868', '#c44e52']) \n",
    "ax.set(facecolor = \"grey\")\n",
    "plt.grid(color = 'w')\n",
    "plt.xlabel ('Estado de la reserva')\n",
    "plt.ylabel ('Frecuencia relativa')\n",
    "plt.show()"
   ]
  },
  {
   "cell_type": "code",
   "execution_count": null,
   "metadata": {},
   "outputs": [],
   "source": [
    "hotel_compl = pd.crosstab(hotel.booking_status, hotel.market_Complementary, normalize='columns')\n",
    "hotel_compl"
   ]
  },
  {
   "cell_type": "code",
   "execution_count": null,
   "metadata": {},
   "outputs": [],
   "source": [
    "hotel_compl.plot(kind='bar', stacked=False, color =['#4c72b0', '#dd8452', '#55a868', '#c44e52']) \n",
    "ax.set(facecolor = \"grey\")\n",
    "plt.grid(color = 'w')\n",
    "plt.xlabel ('Estado de la reserva')\n",
    "plt.ylabel ('Frecuencia relativa')\n",
    "plt.show()"
   ]
  },
  {
   "cell_type": "code",
   "execution_count": null,
   "metadata": {},
   "outputs": [],
   "source": [
    "hotel_corpo = pd.crosstab(hotel.booking_status, hotel.market_Corporate, normalize='columns')\n",
    "hotel_corpo"
   ]
  },
  {
   "cell_type": "code",
   "execution_count": null,
   "metadata": {},
   "outputs": [],
   "source": [
    "hotel_corpo.plot(kind='bar', stacked=False, color =['#4c72b0', '#dd8452', '#55a868', '#c44e52']) \n",
    "ax.set(facecolor = \"grey\")\n",
    "plt.grid(color = 'w')\n",
    "plt.xlabel ('Estado de la reserva')\n",
    "plt.ylabel ('Frecuencia relativa')\n",
    "plt.show()"
   ]
  },
  {
   "cell_type": "code",
   "execution_count": null,
   "metadata": {},
   "outputs": [],
   "source": [
    "hotel_offline = pd.crosstab(hotel.booking_status, hotel.market_Offline, normalize='columns')\n",
    "hotel_offline"
   ]
  },
  {
   "cell_type": "code",
   "execution_count": null,
   "metadata": {},
   "outputs": [],
   "source": [
    "hotel_offline.plot(kind='bar', stacked=False, color =['#4c72b0', '#dd8452', '#55a868', '#c44e52']) \n",
    "ax.set(facecolor = \"grey\")\n",
    "plt.grid(color = 'w')\n",
    "plt.xlabel ('Estado de la reserva')\n",
    "plt.ylabel ('Frecuencia relativa')\n",
    "plt.show()"
   ]
  },
  {
   "cell_type": "code",
   "execution_count": null,
   "metadata": {},
   "outputs": [],
   "source": [
    "hotel_online = pd.crosstab(hotel.booking_status, hotel.market_Online, normalize='columns')\n",
    "hotel_online"
   ]
  },
  {
   "cell_type": "code",
   "execution_count": null,
   "metadata": {},
   "outputs": [],
   "source": [
    "hotel_online.plot(kind='bar', stacked=False, color =['#4c72b0', '#dd8452', '#55a868', '#c44e52']) \n",
    "ax.set(facecolor = \"grey\")\n",
    "plt.grid(color = 'w')\n",
    "plt.xlabel ('Estado de la reserva')\n",
    "plt.ylabel ('Frecuencia relativa')\n",
    "plt.show()"
   ]
  },
  {
   "attachments": {},
   "cell_type": "markdown",
   "metadata": {},
   "source": [
    "##### Cancelación y lead time"
   ]
  },
  {
   "cell_type": "code",
   "execution_count": null,
   "metadata": {},
   "outputs": [],
   "source": [
    "cl = sns.boxplot(x = \"booking_status\", y =\"lead_time\", data = hotel) \n",
    "sns.set(font_scale=1)\n",
    "cl.set_xlabel('Estado de la reserva')\n",
    "cl.set_xticklabels(labels)\n",
    "cl.set_ylabel('Dias en lista de espera')    \n",
    "cl.set_title('Dias en lista de espera vs Estado de la Reservas')      \n",
    "plt.show()"
   ]
  },
  {
   "cell_type": "code",
   "execution_count": null,
   "metadata": {},
   "outputs": [],
   "source": [
    "labels=('No canceló', 'Canceló')\n",
    "sns.set(font_scale=1)\n",
    "ax = sns.barplot(x='booking_status', y='lead_time', data=hotel) \n",
    "ax.set_xticklabels(labels)\n",
    "ax.set_title('Dias en lista de espera vs Estado de la Reservas')\n",
    "ax.set_xlabel('Estado de la reserva')\n",
    "ax.set_ylabel('Dias en lista de espera')\n",
    "plt.show()"
   ]
  },
  {
   "attachments": {},
   "cell_type": "markdown",
   "metadata": {},
   "source": [
    "Se observa que las personas que cancelaron la reserva tuvieron más tiempo de espera para reservar que los clientes que no cancelaron."
   ]
  },
  {
   "attachments": {},
   "cell_type": "markdown",
   "metadata": {},
   "source": [
    "##### Cancelacion y requisito de estacionamiento"
   ]
  },
  {
   "cell_type": "code",
   "execution_count": null,
   "metadata": {},
   "outputs": [],
   "source": [
    "hotel.required_car_parking_space.value_counts()"
   ]
  },
  {
   "cell_type": "code",
   "execution_count": null,
   "metadata": {},
   "outputs": [],
   "source": [
    "labels=('No canceló', 'Canceló')\n",
    "sns.set(font_scale=1)\n",
    "ax = sns.barplot(x='booking_status', y='required_car_parking_space', data=hotel) \n",
    "ax.set_xticklabels(labels)\n",
    "ax.set_title('Requisito de estacionamiento vs Estado de la Reservas')\n",
    "ax.set_xlabel('Estado de la reserva')\n",
    "ax.set_ylabel('Solicitud de estacionamiento')\n",
    "plt.show()"
   ]
  },
  {
   "attachments": {},
   "cell_type": "markdown",
   "metadata": {},
   "source": [
    "Vemos que la gran mayoria de las personas que solicitaron lugar de estacionamiento con su reserva no cancelaron la misma."
   ]
  },
  {
   "attachments": {},
   "cell_type": "markdown",
   "metadata": {},
   "source": [
    "##### Cancelación y total de noches"
   ]
  },
  {
   "cell_type": "code",
   "execution_count": null,
   "metadata": {},
   "outputs": [],
   "source": [
    "labels=('No canceló', 'Canceló')\n",
    "sns.set(font_scale=1)\n",
    "ax = sns.barplot(x='booking_status', y='total_nights', data=hotel, estimator = median)\n",
    "ax.set_xticklabels(labels)\n",
    "ax.set_title('Longitud de la estadía (mediana) según estado de la reserva')\n",
    "ax.set_xlabel('Estado de la reserva')\n",
    "ax.set_ylabel('Longitud de la estadía')\n",
    "plt.show()"
   ]
  },
  {
   "cell_type": "code",
   "execution_count": null,
   "metadata": {},
   "outputs": [],
   "source": [
    "labels=('No canceló', 'Canceló')\n",
    "sns.set(font_scale=1)\n",
    "ax = sns.barplot(x='booking_status', y='total_nights', data=hotel)\n",
    "ax.set_xticklabels(labels)\n",
    "ax.set_title('Longitud de la estadía (promedio) según estado de la reserva')\n",
    "ax.set_xlabel('Estado de la reserva')\n",
    "ax.set_ylabel('Longitud de la estadía')\n",
    "plt.show()"
   ]
  },
  {
   "attachments": {},
   "cell_type": "markdown",
   "metadata": {},
   "source": [
    "La mediana y el promedio de la longitud de la estadía en días de semana no se verian relacionadas con la probabilidad de cancelar ya que son similares en ambos grupos. "
   ]
  },
  {
   "attachments": {},
   "cell_type": "markdown",
   "metadata": {},
   "source": [
    "#### Análisis Multivariado"
   ]
  },
  {
   "cell_type": "code",
   "execution_count": null,
   "metadata": {},
   "outputs": [],
   "source": [
    "hotel.info()"
   ]
  },
  {
   "attachments": {},
   "cell_type": "markdown",
   "metadata": {},
   "source": [
    "##### *Correlación entre variables cuantitativas según variable target \"booking_status\"*"
   ]
  },
  {
   "cell_type": "code",
   "execution_count": null,
   "metadata": {},
   "outputs": [],
   "source": [
    "hotel_cuant= hotel.select_dtypes(include=np.number)\n",
    "hotel_cuant.info()"
   ]
  },
  {
   "cell_type": "code",
   "execution_count": null,
   "metadata": {},
   "outputs": [],
   "source": [
    "status=hotel['booking_status']\n",
    "status"
   ]
  },
  {
   "cell_type": "code",
   "execution_count": null,
   "metadata": {},
   "outputs": [],
   "source": [
    "hotel_cuant['status']=status\n",
    "hotel_cuant.info()"
   ]
  },
  {
   "cell_type": "code",
   "execution_count": null,
   "metadata": {},
   "outputs": [],
   "source": [
    "sns.pairplot(hotel_cuant, hue='status')"
   ]
  },
  {
   "attachments": {},
   "cell_type": "markdown",
   "metadata": {},
   "source": [
    "- La variable \"previous_booking\" presenta valores altos para el grupo que canceló.\n",
    "- En la variable \"total_nights\" se visualizan 2 nubes bien diferenciadas entre Canceló y no Cancelo.\n",
    "- La variable \"arrival_date\" tiene un comportamiento similar a \"total_nights\".\n",
    "- La variable \"lead_time\" se distribuye de forma diferente en los grupos Canceló/No canceló.\n",
    "- En las variables restantes es dificil visualizar una diferenciación entre los usuarios que cancelaron y los que no. Visualizare \"no_of_special_requests\""
   ]
  },
  {
   "attachments": {},
   "cell_type": "markdown",
   "metadata": {},
   "source": [
    "##### \"previous_booking\" y \"room_type_reserved\" vs \"booking_status\""
   ]
  },
  {
   "cell_type": "code",
   "execution_count": null,
   "metadata": {},
   "outputs": [],
   "source": [
    "plt.figure(figsize=(10,10))\n",
    "labels=('No canceló', 'Canceló')\n",
    "ax = sns.boxplot(x = \"booking_status\", y ='previous_booking', hue = 'repeated_guest', data = hotel)\n",
    "ax.set_xlabel('Estado de la reserva')\n",
    "ax.set_ylabel('Lead time') \n",
    "ax.set_xticklabels(labels)   \n",
    "ax.set_title('Reservas previas por tipo de habitación en Reservas canceladas y no canceladas')  \n",
    "plt.show()"
   ]
  },
  {
   "cell_type": "code",
   "execution_count": null,
   "metadata": {},
   "outputs": [],
   "source": [
    "labels=('No canceló', 'Canceló')\n",
    "ax = sns.barplot(x = \"booking_status\", y ='previous_booking', hue = 'repeated_guest', data = hotel, estimator = median)\n",
    "ax.set_xticklabels(labels)\n",
    "ax.set_title('Reserva previa (mediana) por tipo de habitación y estado de la reserva')\n",
    "ax.set_xlabel('Estado de la reserva')\n",
    "plt.show()"
   ]
  },
  {
   "attachments": {},
   "cell_type": "markdown",
   "metadata": {},
   "source": [
    "### Correlación de las variables"
   ]
  },
  {
   "cell_type": "code",
   "execution_count": null,
   "metadata": {},
   "outputs": [],
   "source": [
    "correlation = hotel.corr().round(2)\n",
    "plt.figure(figsize = (14,7))\n",
    "sns.heatmap(correlation, annot = True, cmap = 'YlOrBr')"
   ]
  },
  {
   "attachments": {},
   "cell_type": "markdown",
   "metadata": {},
   "source": [
    "No se visualiza una correlación muy fuerte entre las variables, y las que se visualizan es porque estan derivadas de otras variable (por ejemplo total_nights con no_of_weekend_nights). Se mantienen momentaneamente para realizar el análisis."
   ]
  },
  {
   "attachments": {},
   "cell_type": "markdown",
   "metadata": {},
   "source": [
    "## Storytelling"
   ]
  },
  {
   "attachments": {},
   "cell_type": "markdown",
   "metadata": {},
   "source": [
    "La industria hotelera es una de las más afectadas en cuanto a cancelación de reservas se refiere. Los hoteles pueden disminuir significativamente sus ingresos cuando los viajeros cancelan las resevas en situaciones que no les permiten completar las habitaciones nuevas con nuevos huespedes. Al privarse de vender estas habitaciones, como se mencionaba anteriormente , la rentabilidad de los hoteles disminuye ya que se generan costos adicionales para huespedes que no cumpliran con la reserva.\n",
    "Poder establecer un modelo que ayude a predecir las reservas que se cancelarán es una condicion sine qua non para mejorar la rentabilidad y eficiencia del negocio.\n",
    "\n",
    "El set de datos incluye cerca de 36000 reservas entre canceladas y no canceladas junto con variables referidas a los huespedes, a las características que ofrece el hotel, e información específica de las reservas. Este dataset nos pormitira desarrollar a futuro un modelo de predicción que nos permita asistir a la industria hotelera.\n",
    "\n",
    "Se identificaron algunas relaciones entre el estado de la reserva y ciertas variables:\n",
    "\n",
    "* A mayor dias de espera para la llegada al hotel, mayor tasa de cancelaciones.\n",
    "* El segmento de mercado \"Complementary\" no registra cancelaciones\n",
    "* Las solicitudes de espacio de estacionamiento no registran cancelaciones de reservas\n",
    "* Julio es el mes donde se registran mayor cantidad de cancelaciones en relación a la cantidad de reservas realizadas\n",
    "* A mayores requerimientos especiales menor es la tasa de cancelaciones\n",
    "* El indice de huespedes recurrentes es muy bajo.\n",
    "* Se suma el total de adultos y niños.\n",
    "* Se suman las noches de la semana y el fin de semana\n",
    "* El regimen de comidas 2 registra una tasa de cancelación similar a las no canceladas.\n",
    "* Las reservas de habitación tipo 1 son la de mayor cantidad de reservas.\n",
    "\n",
    "Todas las variables se incluiran en el dataset para el armado del futuro modelo de clasificación a excepción de:\n",
    "\n",
    "* Date por ser de tipo datetime."
   ]
  },
  {
   "cell_type": "markdown",
   "metadata": {},
   "source": [
    "## Preparación del modelo"
   ]
  },
  {
   "cell_type": "markdown",
   "metadata": {},
   "source": [
    "### Librerías necesarias"
   ]
  },
  {
   "cell_type": "code",
   "execution_count": null,
   "metadata": {},
   "outputs": [],
   "source": [
    "import matplotlib.pyplot as plt\n",
    "\n",
    "from sklearn.compose import ColumnTransformer\n",
    "from sklearn.preprocessing import OneHotEncoder, RobustScaler\n",
    "from sklearn.ensemble import RandomForestClassifier\n",
    "from sklearn.linear_model import LogisticRegression\n",
    "from sklearn.neighbors import KNeighborsClassifier\n",
    "from sklearn.pipeline import Pipeline\n",
    "from sklearn.model_selection import cross_val_score\n",
    "\n",
    "from sklearn.metrics import accuracy_score\n",
    "from sklearn.metrics import classification_report\n",
    "from sklearn.metrics import confusion_matrix, ConfusionMatrixDisplay\n",
    "from sklearn.metrics import precision_score\n",
    "from sklearn.metrics import recall_score\n",
    "from sklearn.metrics import f1_score\n",
    "from sklearn import metrics\n",
    "from sklearn.metrics import ConfusionMatrixDisplay\n",
    "from sklearn.metrics import roc_curve, auc   \n"
   ]
  },
  {
   "cell_type": "code",
   "execution_count": null,
   "metadata": {},
   "outputs": [],
   "source": [
    "hotel.info()"
   ]
  },
  {
   "cell_type": "markdown",
   "metadata": {},
   "source": [
    "Se descartan las variables que no se utilizarán en el modelo.\n",
    "\n",
    "- 'total_people' porque quiero precisar la cantidad de adultos y niños. \n",
    "- 'arrival_year' porque es poco tiempo de análisis.\n",
    "- 'arrival_date' tiene muchas clases.\n",
    "- 'avg_price_per_room' tiene demasiadas clases.\n",
    "- 'Date' es de tipo fecha."
   ]
  },
  {
   "cell_type": "code",
   "execution_count": null,
   "metadata": {},
   "outputs": [],
   "source": [
    "hotel_clasif = hotel[['no_of_adults', 'no_of_children', 'no_of_weekend_nights', 'no_of_week_nights', 'type_of_meal_plan', 'required_car_parking_space',\n",
    "                       'room_type_reserved', 'lead_time', 'arrival_month', 'repeated_guest', 'no_of_previous_cancellations', 'no_of_previous_bookings_not_canceled',\n",
    "                         'no_of_special_requests', 'total_nights', 'previous_booking', 'market_Aviation', 'market_Complementary',\n",
    "                           'market_Corporate', 'market_Offline', 'market_Online', 'booking_status' ]]\n",
    "hotel_clasif.info()"
   ]
  },
  {
   "cell_type": "markdown",
   "metadata": {},
   "source": [
    "Concateno 'market_segment_type' porque me sera mas útil de esta forma que separada por market."
   ]
  },
  {
   "cell_type": "code",
   "execution_count": null,
   "metadata": {},
   "outputs": [],
   "source": [
    "hotel_clasif = pd.concat([hotel_clasif,hotel_orig['market_segment_type']], axis= 1)"
   ]
  },
  {
   "cell_type": "code",
   "execution_count": null,
   "metadata": {},
   "outputs": [],
   "source": [
    "hotel_clasif = hotel_clasif.drop(['market_Aviation', 'market_Complementary', 'market_Corporate', 'market_Offline', 'market_Online'], axis= 1)"
   ]
  },
  {
   "cell_type": "code",
   "execution_count": null,
   "metadata": {},
   "outputs": [],
   "source": [
    "hotel_clasif.type_of_meal_plan = pd.to_numeric(hotel_clasif.type_of_meal_plan)\n",
    "hotel_clasif.required_car_parking_space = pd.to_numeric(hotel_clasif.required_car_parking_space)\n",
    "hotel_clasif.repeated_guest = pd.to_numeric(hotel_clasif.repeated_guest)\n",
    "hotel_clasif.booking_status = pd.to_numeric(hotel_clasif.booking_status)\n",
    "\n",
    "hotel_clasif.info()"
   ]
  },
  {
   "cell_type": "markdown",
   "metadata": {},
   "source": [
    "### Encoding y normalización de columnas numéricas"
   ]
  },
  {
   "cell_type": "code",
   "execution_count": null,
   "metadata": {},
   "outputs": [],
   "source": [
    "colunumeros = hotel_clasif.select_dtypes(include=['float64', 'int']).columns.to_list()\n",
    "colucateg = hotel_clasif.select_dtypes(include=['object']).columns.to_list()"
   ]
  },
  {
   "cell_type": "code",
   "execution_count": null,
   "metadata": {},
   "outputs": [],
   "source": [
    "colunumeros"
   ]
  },
  {
   "cell_type": "code",
   "execution_count": null,
   "metadata": {},
   "outputs": [],
   "source": [
    "preprocessor = ColumnTransformer(\n",
    "                   [('scale', RobustScaler(), colunumeros),                                      \n",
    "                    ('onehot', OneHotEncoder(handle_unknown='ignore'), colucateg)],\n",
    "                remainder='passthrough')"
   ]
  },
  {
   "cell_type": "code",
   "execution_count": null,
   "metadata": {},
   "outputs": [],
   "source": [
    "hotel_clasif_prepro = preprocessor.fit_transform(hotel_clasif)"
   ]
  },
  {
   "cell_type": "markdown",
   "metadata": {},
   "source": [
    "Como 'ColumnTransformer' me devuelve un numpy array, convierto el preprocesado en un dataframe para poder recuperar los nombres de las variables. Para ello, utilizo 'OneHotEncoder' para ordenarlos alfabeticamente."
   ]
  },
  {
   "cell_type": "code",
   "execution_count": null,
   "metadata": {},
   "outputs": [],
   "source": [
    "encoding_cat = preprocessor.named_transformers_['onehot'].get_feature_names_out(colucateg)\n",
    "labels = np.concatenate([colunumeros, encoding_cat])\n",
    "hotel_clasif_prepro = pd.DataFrame(hotel_clasif_prepro, columns=labels)\n",
    "hotel_clasif_prepro.info()"
   ]
  },
  {
   "cell_type": "markdown",
   "metadata": {},
   "source": [
    "### Dataset Final"
   ]
  },
  {
   "cell_type": "markdown",
   "metadata": {},
   "source": [
    "Mi dataset final para realizar los modelos de clasificación será hotel_clasif_prepro. Verifico que las variables obtenidas para trabajar son todas numéricas y no tengo datos faltantes."
   ]
  },
  {
   "cell_type": "code",
   "execution_count": null,
   "metadata": {},
   "outputs": [],
   "source": [
    "hotel_clasif_prepro.head()"
   ]
  },
  {
   "cell_type": "code",
   "execution_count": null,
   "metadata": {},
   "outputs": [],
   "source": [
    "hotel_clasif_prepro.shape"
   ]
  },
  {
   "cell_type": "code",
   "execution_count": null,
   "metadata": {},
   "outputs": [],
   "source": [
    "hotel_clasif_prepro.describe()"
   ]
  },
  {
   "cell_type": "code",
   "execution_count": null,
   "metadata": {},
   "outputs": [],
   "source": [
    "hotel_clasif_prepro.isna().any().any()"
   ]
  },
  {
   "cell_type": "markdown",
   "metadata": {},
   "source": [
    "## Algoritmo de Clasificación - Entrenamiento y Evaluación"
   ]
  },
  {
   "cell_type": "markdown",
   "metadata": {},
   "source": [
    "### Sets de train (entrenamiento) y test (evaluación)"
   ]
  },
  {
   "cell_type": "markdown",
   "metadata": {},
   "source": [
    "Separo las variables de la variable target"
   ]
  },
  {
   "cell_type": "code",
   "execution_count": null,
   "metadata": {},
   "outputs": [],
   "source": [
    "X = hotel_clasif_prepro.drop(\"booking_status\", axis=1)\n",
    "y = hotel_clasif_prepro.booking_status"
   ]
  },
  {
   "cell_type": "code",
   "execution_count": null,
   "metadata": {},
   "outputs": [],
   "source": [
    "X_train, X_test, y_train, y_test = train_test_split(X, y, test_size=0.30, random_state=42) #random_state es la semilla."
   ]
  },
  {
   "cell_type": "markdown",
   "metadata": {},
   "source": [
    "Se separo el dataset un 70% para entrenamiento y un 30% para testeo."
   ]
  },
  {
   "cell_type": "markdown",
   "metadata": {},
   "source": [
    "### KNN, Regresión logística y Random Forest."
   ]
  },
  {
   "cell_type": "markdown",
   "metadata": {},
   "source": [
    "Evaluaremos y compararemos los 3 modelos de clasifición mencionados. Realizaremos tambien una cross-validation (validación cruzada) para ajustar los modelos y calcular la presición de cada uno (accuracy)."
   ]
  },
  {
   "cell_type": "code",
   "execution_count": null,
   "metadata": {},
   "outputs": [],
   "source": [
    "pipeline_lr = Pipeline([('LR',  LogisticRegression(max_iter=5000, random_state=42))])\n",
    "pipeline_fr = Pipeline([ ('RF', RandomForestClassifier(random_state=42))])\n",
    "pipeline_knn = Pipeline([ ('KNN', KNeighborsClassifier()) ])"
   ]
  },
  {
   "cell_type": "code",
   "execution_count": null,
   "metadata": {},
   "outputs": [],
   "source": [
    "pipelines = [pipeline_lr, pipeline_fr, pipeline_knn]\n",
    "pipelines"
   ]
  },
  {
   "cell_type": "code",
   "execution_count": null,
   "metadata": {},
   "outputs": [],
   "source": [
    "pip_dict = {0: 'Regresion Logistica', 1: 'Random Forest', 2: 'KNN' }"
   ]
  },
  {
   "cell_type": "code",
   "execution_count": null,
   "metadata": {},
   "outputs": [],
   "source": [
    "def val_cross(X_train,X_test, y_train, y_test):    \n",
    "\n",
    "    modeloutcomes = []\n",
    "    modelnames = []\n",
    "    for i,model in enumerate(pipelines):            \n",
    "        v_results = cross_val_score(model, X_train, y_train, cv = 3, \n",
    "                                     scoring='accuracy', n_jobs = -1, verbose = 0)\n",
    "        print(pip_dict[i], v_results.mean())\n",
    "        modeloutcomes.append(v_results)\n",
    "        modelnames.append(pip_dict[i])\n",
    "        \n",
    "    print(modeloutcomes) \n",
    "    \n",
    "    fig = plt.figure() \n",
    "    ax = fig.add_subplot(111)\n",
    "    plt.boxplot(modeloutcomes)\n",
    "    ax.set_xticklabels(modelnames)\n",
    "    \n",
    "\n",
    "val_cross(X_train,X_test, y_train, y_test)"
   ]
  },
  {
   "cell_type": "markdown",
   "metadata": {},
   "source": [
    "De acuerdo a la grafica y los valores obtenidos podemos verificar que con Random Forest obtenemos una mayor presición que los otros 2 modelos.\n",
    "De igual forma, calcularemos las metricas de *Presicion*, *Recall*, *F1 Score* y *Curva ROC* para poder obtener una mejor visión sobre la calidad de los diferentes modelos."
   ]
  },
  {
   "cell_type": "markdown",
   "metadata": {},
   "source": [
    "Como necesitamos que nuestro modelo prediga la mayor cantidad posible de positivos (reservas a cancelar), nos enfocaremos en la métrica de Precision"
   ]
  },
  {
   "cell_type": "markdown",
   "metadata": {},
   "source": [
    "### Métricas"
   ]
  },
  {
   "cell_type": "markdown",
   "metadata": {},
   "source": [
    "Creo un dataframe con los nombres de las columnas para almacenar los resultados de las métricas."
   ]
  },
  {
   "cell_type": "code",
   "execution_count": null,
   "metadata": {},
   "outputs": [],
   "source": [
    "metricas = pd.DataFrame(columns = ['Model','Accuracy','Precision','Recall','F1_Score', 'AUC ROC'])    \n",
    "metricas = metricas[['Model','Accuracy','Precision','Recall','F1_Score', 'AUC ROC']]"
   ]
  },
  {
   "cell_type": "code",
   "execution_count": null,
   "metadata": {},
   "outputs": [],
   "source": [
    "for i,model in enumerate(pipelines):     #recorre la lista de pipelines\n",
    "    try:\n",
    "        trainedmodel = model.fit(X_train,y_train)        #entrena el modelo\n",
    "    \n",
    "        # Realizamos las predicciones de cada modelo\n",
    "        ypredict = trainedmodel.predict(X_test)\n",
    "    \n",
    "        # Calculamos las métricas\n",
    "        prec = precision_score(y_test,ypredict)\n",
    "        accur = accuracy_score(y_test, ypredict)\n",
    "        rec = recall_score(y_test, ypredict)\n",
    "        f1score = f1_score(y_test,ypredict)\n",
    "        classreport = classification_report(y_test,ypredict)\n",
    "        confMat = confusion_matrix(y_test,ypredict)\n",
    "\n",
    "        # Imprimimos resultados\n",
    "        print('\\n******  '+pip_dict[i]+'  *****')\n",
    "        print('La precisión es: {}'.format(prec))\n",
    "        print('\\nEl Informe de Clasificación es:\\n {}'.format(classreport))\n",
    "        print('La Matriz de Confusión es:\\n ')\n",
    "        \n",
    "        #Ploteamos la Matriz de confusión\n",
    "        disp = ConfusionMatrixDisplay(confusion_matrix=confMat)\n",
    "        disp.plot()\n",
    "        plt.title('Matriz de Confusión')\n",
    "        plt.show()\n",
    "        \n",
    "\n",
    "        class_probabilities = trainedmodel.predict_proba(X_test)\n",
    "        preds = class_probabilities[:, 1]\n",
    "\n",
    "        fpr, tpr, threshold = roc_curve(y_test, preds)\n",
    "        roc_auc = auc(fpr, tpr)\n",
    "\n",
    "        # AUC (área bajo la curva ROC)\n",
    "        print(f\"\\n Área bajo curva ROC del modelo (AUC ROC): {roc_auc}\")\n",
    "\n",
    "        # Gráfica de la Curva ROC\n",
    "        plt.title('Receiver Operating Characteristic')\n",
    "        plt.plot(fpr, tpr, 'b', label = 'AUC = %0.2f' % roc_auc)\n",
    "        plt.legend(loc = 'lower right')\n",
    "        plt.plot([0, 1], [0, 1],'r--')\n",
    "        plt.xlim([0, 1])\n",
    "        plt.ylim([0, 1])\n",
    "        plt.ylabel('True Positive Rate')\n",
    "        plt.xlabel('False Positive Rate')\n",
    "        plt.show()\n",
    "\n",
    "        #Guardamos los resultados en el nuevo dataframe para luego visualizar\n",
    "        metricas = metricas.append({'Model':pip_dict[i], 'Accuracy':accur, 'Precision':prec, \n",
    "                                    'Recall':rec, 'F1_Score':f1score, 'AUC ROC':roc_auc}, ignore_index=True)\n",
    "\n",
    "    except Exception as e:\n",
    "        print(\"Ocurrió un error al ejecutar el modelo:\", pip_dict[i])\n",
    "        print(\"Error:\", e)"
   ]
  },
  {
   "cell_type": "code",
   "execution_count": null,
   "metadata": {},
   "outputs": [],
   "source": [
    "metricas.head()"
   ]
  },
  {
   "cell_type": "markdown",
   "metadata": {},
   "source": [
    "*Vemos, de acuerdo a la tabla, que nuestro mejor modelo para poder realizar una predicción es el Random Forest*."
   ]
  }
 ],
 "metadata": {
  "kernelspec": {
   "display_name": "Python 3",
   "language": "python",
   "name": "python3"
  },
  "language_info": {
   "codemirror_mode": {
    "name": "ipython",
    "version": 3
   },
   "file_extension": ".py",
   "mimetype": "text/x-python",
   "name": "python",
   "nbconvert_exporter": "python",
   "pygments_lexer": "ipython3",
   "version": "3.10.11"
  },
  "orig_nbformat": 4,
  "vscode": {
   "interpreter": {
    "hash": "e1cf31f014a73b938e0e9c287d22cfcedd6b8087bbeae8633e5062f424295694"
   }
  }
 },
 "nbformat": 4,
 "nbformat_minor": 2
}
